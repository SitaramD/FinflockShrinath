{
  "nbformat": 4,
  "nbformat_minor": 0,
  "metadata": {
    "colab": {
      "name": "Pandas01072021.ipynb",
      "provenance": [],
      "collapsed_sections": []
    },
    "kernelspec": {
      "name": "python3",
      "display_name": "Python 3"
    },
    "language_info": {
      "name": "python"
    }
  },
  "cells": [
    {
      "cell_type": "code",
      "metadata": {
        "id": "4e8Qo8FYbf4g"
      },
      "source": [
        "# Pandas Functions"
      ],
      "execution_count": 328,
      "outputs": []
    },
    {
      "cell_type": "code",
      "metadata": {
        "colab": {
          "base_uri": "https://localhost:8080/"
        },
        "id": "9UkuX0bri9X1",
        "outputId": "9ffb6a3c-3298-4fbc-aa87-67360cc2dc03"
      },
      "source": [
        "!pip install pandas"
      ],
      "execution_count": 329,
      "outputs": [
        {
          "output_type": "stream",
          "text": [
            "Requirement already satisfied: pandas in /usr/local/lib/python3.7/dist-packages (1.1.5)\n",
            "Requirement already satisfied: numpy>=1.15.4 in /usr/local/lib/python3.7/dist-packages (from pandas) (1.19.5)\n",
            "Requirement already satisfied: pytz>=2017.2 in /usr/local/lib/python3.7/dist-packages (from pandas) (2018.9)\n",
            "Requirement already satisfied: python-dateutil>=2.7.3 in /usr/local/lib/python3.7/dist-packages (from pandas) (2.8.1)\n",
            "Requirement already satisfied: six>=1.5 in /usr/local/lib/python3.7/dist-packages (from python-dateutil>=2.7.3->pandas) (1.15.0)\n"
          ],
          "name": "stdout"
        }
      ]
    },
    {
      "cell_type": "code",
      "metadata": {
        "colab": {
          "base_uri": "https://localhost:8080/"
        },
        "id": "y2D1OxGSeq3M",
        "outputId": "d42e9b6f-857a-4c9e-f5b8-e2af7adc85f8"
      },
      "source": [
        "!pip install yfinance"
      ],
      "execution_count": 330,
      "outputs": [
        {
          "output_type": "stream",
          "text": [
            "Requirement already satisfied: yfinance in /usr/local/lib/python3.7/dist-packages (0.1.59)\n",
            "Requirement already satisfied: requests>=2.20 in /usr/local/lib/python3.7/dist-packages (from yfinance) (2.23.0)\n",
            "Requirement already satisfied: pandas>=0.24 in /usr/local/lib/python3.7/dist-packages (from yfinance) (1.1.5)\n",
            "Requirement already satisfied: multitasking>=0.0.7 in /usr/local/lib/python3.7/dist-packages (from yfinance) (0.0.9)\n",
            "Requirement already satisfied: numpy>=1.15 in /usr/local/lib/python3.7/dist-packages (from yfinance) (1.19.5)\n",
            "Requirement already satisfied: lxml>=4.5.1 in /usr/local/lib/python3.7/dist-packages (from yfinance) (4.6.3)\n",
            "Requirement already satisfied: urllib3!=1.25.0,!=1.25.1,<1.26,>=1.21.1 in /usr/local/lib/python3.7/dist-packages (from requests>=2.20->yfinance) (1.24.3)\n",
            "Requirement already satisfied: chardet<4,>=3.0.2 in /usr/local/lib/python3.7/dist-packages (from requests>=2.20->yfinance) (3.0.4)\n",
            "Requirement already satisfied: certifi>=2017.4.17 in /usr/local/lib/python3.7/dist-packages (from requests>=2.20->yfinance) (2021.5.30)\n",
            "Requirement already satisfied: idna<3,>=2.5 in /usr/local/lib/python3.7/dist-packages (from requests>=2.20->yfinance) (2.10)\n",
            "Requirement already satisfied: python-dateutil>=2.7.3 in /usr/local/lib/python3.7/dist-packages (from pandas>=0.24->yfinance) (2.8.1)\n",
            "Requirement already satisfied: pytz>=2017.2 in /usr/local/lib/python3.7/dist-packages (from pandas>=0.24->yfinance) (2018.9)\n",
            "Requirement already satisfied: six>=1.5 in /usr/local/lib/python3.7/dist-packages (from python-dateutil>=2.7.3->pandas>=0.24->yfinance) (1.15.0)\n"
          ],
          "name": "stdout"
        }
      ]
    },
    {
      "cell_type": "code",
      "metadata": {
        "id": "kaSbpMRfeYsR"
      },
      "source": [
        "# Importing libraries\n",
        "import pandas as pd\n",
        "import yfinance as yf"
      ],
      "execution_count": 331,
      "outputs": []
    },
    {
      "cell_type": "code",
      "metadata": {
        "colab": {
          "base_uri": "https://localhost:8080/",
          "height": 467
        },
        "id": "gUa24NcxhN7x",
        "outputId": "67f94a73-46b9-4994-c9ec-af7e91ada63b"
      },
      "source": [
        "#  Download daily data for Ethereum\n",
        "df1= yf.download(\"ETH-USD\", interval =\"1d\", start =\"2015-01-01\", end = \"2021-07-01\")\n",
        "df1 "
      ],
      "execution_count": 332,
      "outputs": [
        {
          "output_type": "stream",
          "text": [
            "\r[*********************100%***********************]  1 of 1 completed\n"
          ],
          "name": "stdout"
        },
        {
          "output_type": "execute_result",
          "data": {
            "text/html": [
              "<div>\n",
              "<style scoped>\n",
              "    .dataframe tbody tr th:only-of-type {\n",
              "        vertical-align: middle;\n",
              "    }\n",
              "\n",
              "    .dataframe tbody tr th {\n",
              "        vertical-align: top;\n",
              "    }\n",
              "\n",
              "    .dataframe thead th {\n",
              "        text-align: right;\n",
              "    }\n",
              "</style>\n",
              "<table border=\"1\" class=\"dataframe\">\n",
              "  <thead>\n",
              "    <tr style=\"text-align: right;\">\n",
              "      <th></th>\n",
              "      <th>Open</th>\n",
              "      <th>High</th>\n",
              "      <th>Low</th>\n",
              "      <th>Close</th>\n",
              "      <th>Adj Close</th>\n",
              "      <th>Volume</th>\n",
              "    </tr>\n",
              "    <tr>\n",
              "      <th>Date</th>\n",
              "      <th></th>\n",
              "      <th></th>\n",
              "      <th></th>\n",
              "      <th></th>\n",
              "      <th></th>\n",
              "      <th></th>\n",
              "    </tr>\n",
              "  </thead>\n",
              "  <tbody>\n",
              "    <tr>\n",
              "      <th>2015-08-07</th>\n",
              "      <td>2.831620</td>\n",
              "      <td>3.536610</td>\n",
              "      <td>2.521120</td>\n",
              "      <td>2.772120</td>\n",
              "      <td>2.772120</td>\n",
              "      <td>164329</td>\n",
              "    </tr>\n",
              "    <tr>\n",
              "      <th>2015-08-08</th>\n",
              "      <td>2.793760</td>\n",
              "      <td>2.798810</td>\n",
              "      <td>0.714725</td>\n",
              "      <td>0.753325</td>\n",
              "      <td>0.753325</td>\n",
              "      <td>674188</td>\n",
              "    </tr>\n",
              "    <tr>\n",
              "      <th>2015-08-09</th>\n",
              "      <td>0.706136</td>\n",
              "      <td>0.879810</td>\n",
              "      <td>0.629191</td>\n",
              "      <td>0.701897</td>\n",
              "      <td>0.701897</td>\n",
              "      <td>532170</td>\n",
              "    </tr>\n",
              "    <tr>\n",
              "      <th>2015-08-10</th>\n",
              "      <td>0.713989</td>\n",
              "      <td>0.729854</td>\n",
              "      <td>0.636546</td>\n",
              "      <td>0.708448</td>\n",
              "      <td>0.708448</td>\n",
              "      <td>405283</td>\n",
              "    </tr>\n",
              "    <tr>\n",
              "      <th>2015-08-11</th>\n",
              "      <td>0.708087</td>\n",
              "      <td>1.131410</td>\n",
              "      <td>0.663235</td>\n",
              "      <td>1.067860</td>\n",
              "      <td>1.067860</td>\n",
              "      <td>1463100</td>\n",
              "    </tr>\n",
              "    <tr>\n",
              "      <th>...</th>\n",
              "      <td>...</td>\n",
              "      <td>...</td>\n",
              "      <td>...</td>\n",
              "      <td>...</td>\n",
              "      <td>...</td>\n",
              "      <td>...</td>\n",
              "    </tr>\n",
              "    <tr>\n",
              "      <th>2021-06-27</th>\n",
              "      <td>1830.996948</td>\n",
              "      <td>1979.958130</td>\n",
              "      <td>1811.245850</td>\n",
              "      <td>1978.894653</td>\n",
              "      <td>1978.894653</td>\n",
              "      <td>19885474742</td>\n",
              "    </tr>\n",
              "    <tr>\n",
              "      <th>2021-06-28</th>\n",
              "      <td>1981.386475</td>\n",
              "      <td>2139.805420</td>\n",
              "      <td>1963.615479</td>\n",
              "      <td>2079.657471</td>\n",
              "      <td>2079.657471</td>\n",
              "      <td>25514602841</td>\n",
              "    </tr>\n",
              "    <tr>\n",
              "      <th>2021-06-29</th>\n",
              "      <td>2083.448730</td>\n",
              "      <td>2242.238770</td>\n",
              "      <td>2076.240234</td>\n",
              "      <td>2160.768311</td>\n",
              "      <td>2160.768311</td>\n",
              "      <td>24815124419</td>\n",
              "    </tr>\n",
              "    <tr>\n",
              "      <th>2021-06-30</th>\n",
              "      <td>2164.216309</td>\n",
              "      <td>2282.989014</td>\n",
              "      <td>2090.760742</td>\n",
              "      <td>2274.547607</td>\n",
              "      <td>2274.547607</td>\n",
              "      <td>25828056268</td>\n",
              "    </tr>\n",
              "    <tr>\n",
              "      <th>2021-07-01</th>\n",
              "      <td>2265.371582</td>\n",
              "      <td>2265.411133</td>\n",
              "      <td>2082.314697</td>\n",
              "      <td>2120.884033</td>\n",
              "      <td>2120.884033</td>\n",
              "      <td>30867963904</td>\n",
              "    </tr>\n",
              "  </tbody>\n",
              "</table>\n",
              "<p>2152 rows × 6 columns</p>\n",
              "</div>"
            ],
            "text/plain": [
              "                   Open         High  ...    Adj Close       Volume\n",
              "Date                                  ...                          \n",
              "2015-08-07     2.831620     3.536610  ...     2.772120       164329\n",
              "2015-08-08     2.793760     2.798810  ...     0.753325       674188\n",
              "2015-08-09     0.706136     0.879810  ...     0.701897       532170\n",
              "2015-08-10     0.713989     0.729854  ...     0.708448       405283\n",
              "2015-08-11     0.708087     1.131410  ...     1.067860      1463100\n",
              "...                 ...          ...  ...          ...          ...\n",
              "2021-06-27  1830.996948  1979.958130  ...  1978.894653  19885474742\n",
              "2021-06-28  1981.386475  2139.805420  ...  2079.657471  25514602841\n",
              "2021-06-29  2083.448730  2242.238770  ...  2160.768311  24815124419\n",
              "2021-06-30  2164.216309  2282.989014  ...  2274.547607  25828056268\n",
              "2021-07-01  2265.371582  2265.411133  ...  2120.884033  30867963904\n",
              "\n",
              "[2152 rows x 6 columns]"
            ]
          },
          "metadata": {
            "tags": []
          },
          "execution_count": 332
        }
      ]
    },
    {
      "cell_type": "code",
      "metadata": {
        "colab": {
          "base_uri": "https://localhost:8080/",
          "height": 235
        },
        "id": "I1OSewA1bg5W",
        "outputId": "358a54d7-1eb3-40dd-ea15-9609990952c2"
      },
      "source": [
        "df1.head()"
      ],
      "execution_count": 333,
      "outputs": [
        {
          "output_type": "execute_result",
          "data": {
            "text/html": [
              "<div>\n",
              "<style scoped>\n",
              "    .dataframe tbody tr th:only-of-type {\n",
              "        vertical-align: middle;\n",
              "    }\n",
              "\n",
              "    .dataframe tbody tr th {\n",
              "        vertical-align: top;\n",
              "    }\n",
              "\n",
              "    .dataframe thead th {\n",
              "        text-align: right;\n",
              "    }\n",
              "</style>\n",
              "<table border=\"1\" class=\"dataframe\">\n",
              "  <thead>\n",
              "    <tr style=\"text-align: right;\">\n",
              "      <th></th>\n",
              "      <th>Open</th>\n",
              "      <th>High</th>\n",
              "      <th>Low</th>\n",
              "      <th>Close</th>\n",
              "      <th>Adj Close</th>\n",
              "      <th>Volume</th>\n",
              "    </tr>\n",
              "    <tr>\n",
              "      <th>Date</th>\n",
              "      <th></th>\n",
              "      <th></th>\n",
              "      <th></th>\n",
              "      <th></th>\n",
              "      <th></th>\n",
              "      <th></th>\n",
              "    </tr>\n",
              "  </thead>\n",
              "  <tbody>\n",
              "    <tr>\n",
              "      <th>2015-08-07</th>\n",
              "      <td>2.831620</td>\n",
              "      <td>3.536610</td>\n",
              "      <td>2.521120</td>\n",
              "      <td>2.772120</td>\n",
              "      <td>2.772120</td>\n",
              "      <td>164329</td>\n",
              "    </tr>\n",
              "    <tr>\n",
              "      <th>2015-08-08</th>\n",
              "      <td>2.793760</td>\n",
              "      <td>2.798810</td>\n",
              "      <td>0.714725</td>\n",
              "      <td>0.753325</td>\n",
              "      <td>0.753325</td>\n",
              "      <td>674188</td>\n",
              "    </tr>\n",
              "    <tr>\n",
              "      <th>2015-08-09</th>\n",
              "      <td>0.706136</td>\n",
              "      <td>0.879810</td>\n",
              "      <td>0.629191</td>\n",
              "      <td>0.701897</td>\n",
              "      <td>0.701897</td>\n",
              "      <td>532170</td>\n",
              "    </tr>\n",
              "    <tr>\n",
              "      <th>2015-08-10</th>\n",
              "      <td>0.713989</td>\n",
              "      <td>0.729854</td>\n",
              "      <td>0.636546</td>\n",
              "      <td>0.708448</td>\n",
              "      <td>0.708448</td>\n",
              "      <td>405283</td>\n",
              "    </tr>\n",
              "    <tr>\n",
              "      <th>2015-08-11</th>\n",
              "      <td>0.708087</td>\n",
              "      <td>1.131410</td>\n",
              "      <td>0.663235</td>\n",
              "      <td>1.067860</td>\n",
              "      <td>1.067860</td>\n",
              "      <td>1463100</td>\n",
              "    </tr>\n",
              "  </tbody>\n",
              "</table>\n",
              "</div>"
            ],
            "text/plain": [
              "                Open      High       Low     Close  Adj Close   Volume\n",
              "Date                                                                  \n",
              "2015-08-07  2.831620  3.536610  2.521120  2.772120   2.772120   164329\n",
              "2015-08-08  2.793760  2.798810  0.714725  0.753325   0.753325   674188\n",
              "2015-08-09  0.706136  0.879810  0.629191  0.701897   0.701897   532170\n",
              "2015-08-10  0.713989  0.729854  0.636546  0.708448   0.708448   405283\n",
              "2015-08-11  0.708087  1.131410  0.663235  1.067860   1.067860  1463100"
            ]
          },
          "metadata": {
            "tags": []
          },
          "execution_count": 333
        }
      ]
    },
    {
      "cell_type": "code",
      "metadata": {
        "colab": {
          "base_uri": "https://localhost:8080/",
          "height": 467
        },
        "id": "Ma996toFbg8j",
        "outputId": "bd09c65a-4174-43a4-a0d0-00bd83c8313d"
      },
      "source": [
        "# Download daily data for Bitcoin\n",
        "df2= yf.download(\"BTC-USD\", interval =\"1d\", start=\"2015-08-07\", end =\"2021-07-01\")\n",
        "df2"
      ],
      "execution_count": 334,
      "outputs": [
        {
          "output_type": "stream",
          "text": [
            "\r[*********************100%***********************]  1 of 1 completed\n"
          ],
          "name": "stdout"
        },
        {
          "output_type": "execute_result",
          "data": {
            "text/html": [
              "<div>\n",
              "<style scoped>\n",
              "    .dataframe tbody tr th:only-of-type {\n",
              "        vertical-align: middle;\n",
              "    }\n",
              "\n",
              "    .dataframe tbody tr th {\n",
              "        vertical-align: top;\n",
              "    }\n",
              "\n",
              "    .dataframe thead th {\n",
              "        text-align: right;\n",
              "    }\n",
              "</style>\n",
              "<table border=\"1\" class=\"dataframe\">\n",
              "  <thead>\n",
              "    <tr style=\"text-align: right;\">\n",
              "      <th></th>\n",
              "      <th>Open</th>\n",
              "      <th>High</th>\n",
              "      <th>Low</th>\n",
              "      <th>Close</th>\n",
              "      <th>Adj Close</th>\n",
              "      <th>Volume</th>\n",
              "    </tr>\n",
              "    <tr>\n",
              "      <th>Date</th>\n",
              "      <th></th>\n",
              "      <th></th>\n",
              "      <th></th>\n",
              "      <th></th>\n",
              "      <th></th>\n",
              "      <th></th>\n",
              "    </tr>\n",
              "  </thead>\n",
              "  <tbody>\n",
              "    <tr>\n",
              "      <th>2015-08-07</th>\n",
              "      <td>278.740997</td>\n",
              "      <td>280.391998</td>\n",
              "      <td>276.365997</td>\n",
              "      <td>279.584991</td>\n",
              "      <td>279.584991</td>\n",
              "      <td>42484800</td>\n",
              "    </tr>\n",
              "    <tr>\n",
              "      <th>2015-08-08</th>\n",
              "      <td>279.742004</td>\n",
              "      <td>279.928009</td>\n",
              "      <td>260.709991</td>\n",
              "      <td>260.997009</td>\n",
              "      <td>260.997009</td>\n",
              "      <td>58533000</td>\n",
              "    </tr>\n",
              "    <tr>\n",
              "      <th>2015-08-09</th>\n",
              "      <td>261.115997</td>\n",
              "      <td>267.002991</td>\n",
              "      <td>260.467987</td>\n",
              "      <td>265.083008</td>\n",
              "      <td>265.083008</td>\n",
              "      <td>23789600</td>\n",
              "    </tr>\n",
              "    <tr>\n",
              "      <th>2015-08-10</th>\n",
              "      <td>265.477997</td>\n",
              "      <td>267.032013</td>\n",
              "      <td>262.596008</td>\n",
              "      <td>264.470001</td>\n",
              "      <td>264.470001</td>\n",
              "      <td>20979400</td>\n",
              "    </tr>\n",
              "    <tr>\n",
              "      <th>2015-08-11</th>\n",
              "      <td>264.342010</td>\n",
              "      <td>270.385986</td>\n",
              "      <td>264.093994</td>\n",
              "      <td>270.385986</td>\n",
              "      <td>270.385986</td>\n",
              "      <td>25433900</td>\n",
              "    </tr>\n",
              "    <tr>\n",
              "      <th>...</th>\n",
              "      <td>...</td>\n",
              "      <td>...</td>\n",
              "      <td>...</td>\n",
              "      <td>...</td>\n",
              "      <td>...</td>\n",
              "      <td>...</td>\n",
              "    </tr>\n",
              "    <tr>\n",
              "      <th>2021-06-27</th>\n",
              "      <td>32287.523438</td>\n",
              "      <td>34656.128906</td>\n",
              "      <td>32071.757812</td>\n",
              "      <td>34649.644531</td>\n",
              "      <td>34649.644531</td>\n",
              "      <td>35511640894</td>\n",
              "    </tr>\n",
              "    <tr>\n",
              "      <th>2021-06-28</th>\n",
              "      <td>34679.121094</td>\n",
              "      <td>35219.890625</td>\n",
              "      <td>33902.074219</td>\n",
              "      <td>34434.335938</td>\n",
              "      <td>34434.335938</td>\n",
              "      <td>33892523752</td>\n",
              "    </tr>\n",
              "    <tr>\n",
              "      <th>2021-06-29</th>\n",
              "      <td>34475.558594</td>\n",
              "      <td>36542.109375</td>\n",
              "      <td>34252.484375</td>\n",
              "      <td>35867.777344</td>\n",
              "      <td>35867.777344</td>\n",
              "      <td>37901460044</td>\n",
              "    </tr>\n",
              "    <tr>\n",
              "      <th>2021-06-30</th>\n",
              "      <td>35908.386719</td>\n",
              "      <td>36074.757812</td>\n",
              "      <td>34086.152344</td>\n",
              "      <td>35040.835938</td>\n",
              "      <td>35040.835938</td>\n",
              "      <td>34059036099</td>\n",
              "    </tr>\n",
              "    <tr>\n",
              "      <th>2021-07-01</th>\n",
              "      <td>34971.144531</td>\n",
              "      <td>34974.652344</td>\n",
              "      <td>32916.074219</td>\n",
              "      <td>33317.351562</td>\n",
              "      <td>33317.351562</td>\n",
              "      <td>39164370944</td>\n",
              "    </tr>\n",
              "  </tbody>\n",
              "</table>\n",
              "<p>2152 rows × 6 columns</p>\n",
              "</div>"
            ],
            "text/plain": [
              "                    Open          High  ...     Adj Close       Volume\n",
              "Date                                    ...                           \n",
              "2015-08-07    278.740997    280.391998  ...    279.584991     42484800\n",
              "2015-08-08    279.742004    279.928009  ...    260.997009     58533000\n",
              "2015-08-09    261.115997    267.002991  ...    265.083008     23789600\n",
              "2015-08-10    265.477997    267.032013  ...    264.470001     20979400\n",
              "2015-08-11    264.342010    270.385986  ...    270.385986     25433900\n",
              "...                  ...           ...  ...           ...          ...\n",
              "2021-06-27  32287.523438  34656.128906  ...  34649.644531  35511640894\n",
              "2021-06-28  34679.121094  35219.890625  ...  34434.335938  33892523752\n",
              "2021-06-29  34475.558594  36542.109375  ...  35867.777344  37901460044\n",
              "2021-06-30  35908.386719  36074.757812  ...  35040.835938  34059036099\n",
              "2021-07-01  34971.144531  34974.652344  ...  33317.351562  39164370944\n",
              "\n",
              "[2152 rows x 6 columns]"
            ]
          },
          "metadata": {
            "tags": []
          },
          "execution_count": 334
        }
      ]
    },
    {
      "cell_type": "code",
      "metadata": {
        "colab": {
          "base_uri": "https://localhost:8080/"
        },
        "id": "pVKtS1lmiv4f",
        "outputId": "20b0c0ae-7ee8-461e-9259-e3cd18a37c12"
      },
      "source": [
        "# To get the number of rows\n",
        "df1.count()"
      ],
      "execution_count": 335,
      "outputs": [
        {
          "output_type": "execute_result",
          "data": {
            "text/plain": [
              "Open         2152\n",
              "High         2152\n",
              "Low          2152\n",
              "Close        2152\n",
              "Adj Close    2152\n",
              "Volume       2152\n",
              "dtype: int64"
            ]
          },
          "metadata": {
            "tags": []
          },
          "execution_count": 335
        }
      ]
    },
    {
      "cell_type": "code",
      "metadata": {
        "colab": {
          "base_uri": "https://localhost:8080/"
        },
        "id": "iUF7Ookciv75",
        "outputId": "a0faa67d-2935-4475-f7d7-e85a49b108d1"
      },
      "source": [
        "df2.count()"
      ],
      "execution_count": 336,
      "outputs": [
        {
          "output_type": "execute_result",
          "data": {
            "text/plain": [
              "Open         2152\n",
              "High         2152\n",
              "Low          2152\n",
              "Close        2152\n",
              "Adj Close    2152\n",
              "Volume       2152\n",
              "dtype: int64"
            ]
          },
          "metadata": {
            "tags": []
          },
          "execution_count": 336
        }
      ]
    },
    {
      "cell_type": "code",
      "metadata": {
        "id": "ejnpMjpC2Daj"
      },
      "source": [
        "# pd.concat(objs,axis=0,join=\"outer\",ignore_index=False, keys=None, levels=None, names=None, verify_integrity=False, copy=True,)"
      ],
      "execution_count": 337,
      "outputs": []
    },
    {
      "cell_type": "code",
      "metadata": {
        "id": "N0PSHce-iv_E"
      },
      "source": [
        "# Joining two datasets using outer join, union of both dataframes, adding along columns, axis=1\n",
        "df3 = [ df1, df2 ]\n",
        "df4 = pd.concat(df3,axis=1,join=\"outer\",ignore_index=False, keys=None, levels=None, names=None, verify_integrity=False, copy=True )\n"
      ],
      "execution_count": 338,
      "outputs": []
    },
    {
      "cell_type": "code",
      "metadata": {
        "colab": {
          "base_uri": "https://localhost:8080/",
          "height": 640
        },
        "id": "wug4ESqglUKH",
        "outputId": "d15244a5-0891-4d69-922b-d4ed9c362b73"
      },
      "source": [
        "# Prnting Dataframe.\n",
        "df4"
      ],
      "execution_count": 339,
      "outputs": [
        {
          "output_type": "execute_result",
          "data": {
            "text/html": [
              "<div>\n",
              "<style scoped>\n",
              "    .dataframe tbody tr th:only-of-type {\n",
              "        vertical-align: middle;\n",
              "    }\n",
              "\n",
              "    .dataframe tbody tr th {\n",
              "        vertical-align: top;\n",
              "    }\n",
              "\n",
              "    .dataframe thead th {\n",
              "        text-align: right;\n",
              "    }\n",
              "</style>\n",
              "<table border=\"1\" class=\"dataframe\">\n",
              "  <thead>\n",
              "    <tr style=\"text-align: right;\">\n",
              "      <th></th>\n",
              "      <th>Open</th>\n",
              "      <th>High</th>\n",
              "      <th>Low</th>\n",
              "      <th>Close</th>\n",
              "      <th>Adj Close</th>\n",
              "      <th>Volume</th>\n",
              "      <th>Open</th>\n",
              "      <th>High</th>\n",
              "      <th>Low</th>\n",
              "      <th>Close</th>\n",
              "      <th>Adj Close</th>\n",
              "      <th>Volume</th>\n",
              "    </tr>\n",
              "    <tr>\n",
              "      <th>Date</th>\n",
              "      <th></th>\n",
              "      <th></th>\n",
              "      <th></th>\n",
              "      <th></th>\n",
              "      <th></th>\n",
              "      <th></th>\n",
              "      <th></th>\n",
              "      <th></th>\n",
              "      <th></th>\n",
              "      <th></th>\n",
              "      <th></th>\n",
              "      <th></th>\n",
              "    </tr>\n",
              "  </thead>\n",
              "  <tbody>\n",
              "    <tr>\n",
              "      <th>2015-08-07</th>\n",
              "      <td>2.831620</td>\n",
              "      <td>3.536610</td>\n",
              "      <td>2.521120</td>\n",
              "      <td>2.772120</td>\n",
              "      <td>2.772120</td>\n",
              "      <td>164329</td>\n",
              "      <td>278.740997</td>\n",
              "      <td>280.391998</td>\n",
              "      <td>276.365997</td>\n",
              "      <td>279.584991</td>\n",
              "      <td>279.584991</td>\n",
              "      <td>42484800</td>\n",
              "    </tr>\n",
              "    <tr>\n",
              "      <th>2015-08-08</th>\n",
              "      <td>2.793760</td>\n",
              "      <td>2.798810</td>\n",
              "      <td>0.714725</td>\n",
              "      <td>0.753325</td>\n",
              "      <td>0.753325</td>\n",
              "      <td>674188</td>\n",
              "      <td>279.742004</td>\n",
              "      <td>279.928009</td>\n",
              "      <td>260.709991</td>\n",
              "      <td>260.997009</td>\n",
              "      <td>260.997009</td>\n",
              "      <td>58533000</td>\n",
              "    </tr>\n",
              "    <tr>\n",
              "      <th>2015-08-09</th>\n",
              "      <td>0.706136</td>\n",
              "      <td>0.879810</td>\n",
              "      <td>0.629191</td>\n",
              "      <td>0.701897</td>\n",
              "      <td>0.701897</td>\n",
              "      <td>532170</td>\n",
              "      <td>261.115997</td>\n",
              "      <td>267.002991</td>\n",
              "      <td>260.467987</td>\n",
              "      <td>265.083008</td>\n",
              "      <td>265.083008</td>\n",
              "      <td>23789600</td>\n",
              "    </tr>\n",
              "    <tr>\n",
              "      <th>2015-08-10</th>\n",
              "      <td>0.713989</td>\n",
              "      <td>0.729854</td>\n",
              "      <td>0.636546</td>\n",
              "      <td>0.708448</td>\n",
              "      <td>0.708448</td>\n",
              "      <td>405283</td>\n",
              "      <td>265.477997</td>\n",
              "      <td>267.032013</td>\n",
              "      <td>262.596008</td>\n",
              "      <td>264.470001</td>\n",
              "      <td>264.470001</td>\n",
              "      <td>20979400</td>\n",
              "    </tr>\n",
              "    <tr>\n",
              "      <th>2015-08-11</th>\n",
              "      <td>0.708087</td>\n",
              "      <td>1.131410</td>\n",
              "      <td>0.663235</td>\n",
              "      <td>1.067860</td>\n",
              "      <td>1.067860</td>\n",
              "      <td>1463100</td>\n",
              "      <td>264.342010</td>\n",
              "      <td>270.385986</td>\n",
              "      <td>264.093994</td>\n",
              "      <td>270.385986</td>\n",
              "      <td>270.385986</td>\n",
              "      <td>25433900</td>\n",
              "    </tr>\n",
              "    <tr>\n",
              "      <th>...</th>\n",
              "      <td>...</td>\n",
              "      <td>...</td>\n",
              "      <td>...</td>\n",
              "      <td>...</td>\n",
              "      <td>...</td>\n",
              "      <td>...</td>\n",
              "      <td>...</td>\n",
              "      <td>...</td>\n",
              "      <td>...</td>\n",
              "      <td>...</td>\n",
              "      <td>...</td>\n",
              "      <td>...</td>\n",
              "    </tr>\n",
              "    <tr>\n",
              "      <th>2021-06-27</th>\n",
              "      <td>1830.996948</td>\n",
              "      <td>1979.958130</td>\n",
              "      <td>1811.245850</td>\n",
              "      <td>1978.894653</td>\n",
              "      <td>1978.894653</td>\n",
              "      <td>19885474742</td>\n",
              "      <td>32287.523438</td>\n",
              "      <td>34656.128906</td>\n",
              "      <td>32071.757812</td>\n",
              "      <td>34649.644531</td>\n",
              "      <td>34649.644531</td>\n",
              "      <td>35511640894</td>\n",
              "    </tr>\n",
              "    <tr>\n",
              "      <th>2021-06-28</th>\n",
              "      <td>1981.386475</td>\n",
              "      <td>2139.805420</td>\n",
              "      <td>1963.615479</td>\n",
              "      <td>2079.657471</td>\n",
              "      <td>2079.657471</td>\n",
              "      <td>25514602841</td>\n",
              "      <td>34679.121094</td>\n",
              "      <td>35219.890625</td>\n",
              "      <td>33902.074219</td>\n",
              "      <td>34434.335938</td>\n",
              "      <td>34434.335938</td>\n",
              "      <td>33892523752</td>\n",
              "    </tr>\n",
              "    <tr>\n",
              "      <th>2021-06-29</th>\n",
              "      <td>2083.448730</td>\n",
              "      <td>2242.238770</td>\n",
              "      <td>2076.240234</td>\n",
              "      <td>2160.768311</td>\n",
              "      <td>2160.768311</td>\n",
              "      <td>24815124419</td>\n",
              "      <td>34475.558594</td>\n",
              "      <td>36542.109375</td>\n",
              "      <td>34252.484375</td>\n",
              "      <td>35867.777344</td>\n",
              "      <td>35867.777344</td>\n",
              "      <td>37901460044</td>\n",
              "    </tr>\n",
              "    <tr>\n",
              "      <th>2021-06-30</th>\n",
              "      <td>2164.216309</td>\n",
              "      <td>2282.989014</td>\n",
              "      <td>2090.760742</td>\n",
              "      <td>2274.547607</td>\n",
              "      <td>2274.547607</td>\n",
              "      <td>25828056268</td>\n",
              "      <td>35908.386719</td>\n",
              "      <td>36074.757812</td>\n",
              "      <td>34086.152344</td>\n",
              "      <td>35040.835938</td>\n",
              "      <td>35040.835938</td>\n",
              "      <td>34059036099</td>\n",
              "    </tr>\n",
              "    <tr>\n",
              "      <th>2021-07-01</th>\n",
              "      <td>2265.371582</td>\n",
              "      <td>2265.411133</td>\n",
              "      <td>2082.314697</td>\n",
              "      <td>2120.884033</td>\n",
              "      <td>2120.884033</td>\n",
              "      <td>30867963904</td>\n",
              "      <td>34971.144531</td>\n",
              "      <td>34974.652344</td>\n",
              "      <td>32916.074219</td>\n",
              "      <td>33317.351562</td>\n",
              "      <td>33317.351562</td>\n",
              "      <td>39164370944</td>\n",
              "    </tr>\n",
              "  </tbody>\n",
              "</table>\n",
              "<p>2152 rows × 12 columns</p>\n",
              "</div>"
            ],
            "text/plain": [
              "                   Open         High  ...     Adj Close       Volume\n",
              "Date                                  ...                           \n",
              "2015-08-07     2.831620     3.536610  ...    279.584991     42484800\n",
              "2015-08-08     2.793760     2.798810  ...    260.997009     58533000\n",
              "2015-08-09     0.706136     0.879810  ...    265.083008     23789600\n",
              "2015-08-10     0.713989     0.729854  ...    264.470001     20979400\n",
              "2015-08-11     0.708087     1.131410  ...    270.385986     25433900\n",
              "...                 ...          ...  ...           ...          ...\n",
              "2021-06-27  1830.996948  1979.958130  ...  34649.644531  35511640894\n",
              "2021-06-28  1981.386475  2139.805420  ...  34434.335938  33892523752\n",
              "2021-06-29  2083.448730  2242.238770  ...  35867.777344  37901460044\n",
              "2021-06-30  2164.216309  2282.989014  ...  35040.835938  34059036099\n",
              "2021-07-01  2265.371582  2265.411133  ...  33317.351562  39164370944\n",
              "\n",
              "[2152 rows x 12 columns]"
            ]
          },
          "metadata": {
            "tags": []
          },
          "execution_count": 339
        }
      ]
    },
    {
      "cell_type": "code",
      "metadata": {
        "id": "0aVmaj3HmiEi"
      },
      "source": [
        "# Renaming columns \n",
        "df4.columns = ['Open_Bcoin', 'High_Bcoin', 'Low_Bcoin', 'Close_Bcoin', 'Adj Close_Bcoin', 'Volume_Bcoin', 'Open_Eth','High_Eth', 'Low_Eth','Close_Eth', 'Adj Close_ETh', 'Volume_Eth']"
      ],
      "execution_count": 340,
      "outputs": []
    },
    {
      "cell_type": "code",
      "metadata": {
        "id": "PyHrXbiL8ZQy"
      },
      "source": [
        "# Joining of two datasets using Inner join, i.e intersection of both datasets, adding at the end , axis=0\n",
        "## Joining two datasets\n",
        "df5 = [ df1, df2 ]\n",
        "df7 = pd.concat(df5,axis=0,join=\"inner\",ignore_index=False, keys=None, levels=None, names=None, verify_integrity=False, copy=True )"
      ],
      "execution_count": 341,
      "outputs": []
    },
    {
      "cell_type": "code",
      "metadata": {
        "colab": {
          "base_uri": "https://localhost:8080/",
          "height": 450
        },
        "id": "RF2SEvVg8Zbr",
        "outputId": "d4266981-be82-4535-cef7-021a44a6f960"
      },
      "source": [
        "df7"
      ],
      "execution_count": 342,
      "outputs": [
        {
          "output_type": "execute_result",
          "data": {
            "text/html": [
              "<div>\n",
              "<style scoped>\n",
              "    .dataframe tbody tr th:only-of-type {\n",
              "        vertical-align: middle;\n",
              "    }\n",
              "\n",
              "    .dataframe tbody tr th {\n",
              "        vertical-align: top;\n",
              "    }\n",
              "\n",
              "    .dataframe thead th {\n",
              "        text-align: right;\n",
              "    }\n",
              "</style>\n",
              "<table border=\"1\" class=\"dataframe\">\n",
              "  <thead>\n",
              "    <tr style=\"text-align: right;\">\n",
              "      <th></th>\n",
              "      <th>Open</th>\n",
              "      <th>High</th>\n",
              "      <th>Low</th>\n",
              "      <th>Close</th>\n",
              "      <th>Adj Close</th>\n",
              "      <th>Volume</th>\n",
              "    </tr>\n",
              "    <tr>\n",
              "      <th>Date</th>\n",
              "      <th></th>\n",
              "      <th></th>\n",
              "      <th></th>\n",
              "      <th></th>\n",
              "      <th></th>\n",
              "      <th></th>\n",
              "    </tr>\n",
              "  </thead>\n",
              "  <tbody>\n",
              "    <tr>\n",
              "      <th>2015-08-07</th>\n",
              "      <td>2.831620</td>\n",
              "      <td>3.536610</td>\n",
              "      <td>2.521120</td>\n",
              "      <td>2.772120</td>\n",
              "      <td>2.772120</td>\n",
              "      <td>164329</td>\n",
              "    </tr>\n",
              "    <tr>\n",
              "      <th>2015-08-08</th>\n",
              "      <td>2.793760</td>\n",
              "      <td>2.798810</td>\n",
              "      <td>0.714725</td>\n",
              "      <td>0.753325</td>\n",
              "      <td>0.753325</td>\n",
              "      <td>674188</td>\n",
              "    </tr>\n",
              "    <tr>\n",
              "      <th>2015-08-09</th>\n",
              "      <td>0.706136</td>\n",
              "      <td>0.879810</td>\n",
              "      <td>0.629191</td>\n",
              "      <td>0.701897</td>\n",
              "      <td>0.701897</td>\n",
              "      <td>532170</td>\n",
              "    </tr>\n",
              "    <tr>\n",
              "      <th>2015-08-10</th>\n",
              "      <td>0.713989</td>\n",
              "      <td>0.729854</td>\n",
              "      <td>0.636546</td>\n",
              "      <td>0.708448</td>\n",
              "      <td>0.708448</td>\n",
              "      <td>405283</td>\n",
              "    </tr>\n",
              "    <tr>\n",
              "      <th>2015-08-11</th>\n",
              "      <td>0.708087</td>\n",
              "      <td>1.131410</td>\n",
              "      <td>0.663235</td>\n",
              "      <td>1.067860</td>\n",
              "      <td>1.067860</td>\n",
              "      <td>1463100</td>\n",
              "    </tr>\n",
              "    <tr>\n",
              "      <th>...</th>\n",
              "      <td>...</td>\n",
              "      <td>...</td>\n",
              "      <td>...</td>\n",
              "      <td>...</td>\n",
              "      <td>...</td>\n",
              "      <td>...</td>\n",
              "    </tr>\n",
              "    <tr>\n",
              "      <th>2021-06-27</th>\n",
              "      <td>32287.523438</td>\n",
              "      <td>34656.128906</td>\n",
              "      <td>32071.757812</td>\n",
              "      <td>34649.644531</td>\n",
              "      <td>34649.644531</td>\n",
              "      <td>35511640894</td>\n",
              "    </tr>\n",
              "    <tr>\n",
              "      <th>2021-06-28</th>\n",
              "      <td>34679.121094</td>\n",
              "      <td>35219.890625</td>\n",
              "      <td>33902.074219</td>\n",
              "      <td>34434.335938</td>\n",
              "      <td>34434.335938</td>\n",
              "      <td>33892523752</td>\n",
              "    </tr>\n",
              "    <tr>\n",
              "      <th>2021-06-29</th>\n",
              "      <td>34475.558594</td>\n",
              "      <td>36542.109375</td>\n",
              "      <td>34252.484375</td>\n",
              "      <td>35867.777344</td>\n",
              "      <td>35867.777344</td>\n",
              "      <td>37901460044</td>\n",
              "    </tr>\n",
              "    <tr>\n",
              "      <th>2021-06-30</th>\n",
              "      <td>35908.386719</td>\n",
              "      <td>36074.757812</td>\n",
              "      <td>34086.152344</td>\n",
              "      <td>35040.835938</td>\n",
              "      <td>35040.835938</td>\n",
              "      <td>34059036099</td>\n",
              "    </tr>\n",
              "    <tr>\n",
              "      <th>2021-07-01</th>\n",
              "      <td>34971.144531</td>\n",
              "      <td>34974.652344</td>\n",
              "      <td>32916.074219</td>\n",
              "      <td>33317.351562</td>\n",
              "      <td>33317.351562</td>\n",
              "      <td>39164370944</td>\n",
              "    </tr>\n",
              "  </tbody>\n",
              "</table>\n",
              "<p>4304 rows × 6 columns</p>\n",
              "</div>"
            ],
            "text/plain": [
              "                    Open          High  ...     Adj Close       Volume\n",
              "Date                                    ...                           \n",
              "2015-08-07      2.831620      3.536610  ...      2.772120       164329\n",
              "2015-08-08      2.793760      2.798810  ...      0.753325       674188\n",
              "2015-08-09      0.706136      0.879810  ...      0.701897       532170\n",
              "2015-08-10      0.713989      0.729854  ...      0.708448       405283\n",
              "2015-08-11      0.708087      1.131410  ...      1.067860      1463100\n",
              "...                  ...           ...  ...           ...          ...\n",
              "2021-06-27  32287.523438  34656.128906  ...  34649.644531  35511640894\n",
              "2021-06-28  34679.121094  35219.890625  ...  34434.335938  33892523752\n",
              "2021-06-29  34475.558594  36542.109375  ...  35867.777344  37901460044\n",
              "2021-06-30  35908.386719  36074.757812  ...  35040.835938  34059036099\n",
              "2021-07-01  34971.144531  34974.652344  ...  33317.351562  39164370944\n",
              "\n",
              "[4304 rows x 6 columns]"
            ]
          },
          "metadata": {
            "tags": []
          },
          "execution_count": 342
        }
      ]
    },
    {
      "cell_type": "code",
      "metadata": {
        "colab": {
          "base_uri": "https://localhost:8080/"
        },
        "id": "vG673z6CJV5L",
        "outputId": "1fe88e90-1df4-4224-cfa8-7fa8741fa485"
      },
      "source": [
        "# To get the shape of the dataframe\n",
        "df6.shape"
      ],
      "execution_count": 343,
      "outputs": [
        {
          "output_type": "execute_result",
          "data": {
            "text/plain": [
              "(2152, 14)"
            ]
          },
          "metadata": {
            "tags": []
          },
          "execution_count": 343
        }
      ]
    },
    {
      "cell_type": "code",
      "metadata": {
        "colab": {
          "base_uri": "https://localhost:8080/"
        },
        "id": "z8ijcfSsKg6P",
        "outputId": "af454b74-d049-41a7-efce-5bb44a049ee7"
      },
      "source": [
        "# To get the shape of the dataframe\n",
        "df7.shape"
      ],
      "execution_count": 344,
      "outputs": [
        {
          "output_type": "execute_result",
          "data": {
            "text/plain": [
              "(4304, 6)"
            ]
          },
          "metadata": {
            "tags": []
          },
          "execution_count": 344
        }
      ]
    },
    {
      "cell_type": "code",
      "metadata": {
        "colab": {
          "base_uri": "https://localhost:8080/"
        },
        "id": "Oq6HAWFgpXnb",
        "outputId": "40554e44-0c2a-48af-a567-c3c81cfbf1d5"
      },
      "source": [
        "# To get the column names\n",
        "df6.columns"
      ],
      "execution_count": 345,
      "outputs": [
        {
          "output_type": "execute_result",
          "data": {
            "text/plain": [
              "Index(['Open_Bcoin', 'High_Bcoin', 'Low_Bcoin', 'Close_Bcoin',\n",
              "       'Adj Close_Bcoin', 'Volume_Bcoin', 'Open_Eth', 'High_Eth', 'Low_Eth',\n",
              "       'Close_Eth', 'Adj Close_ETh', 'Volume_Eth', 'Pivot_Bcoin', 'Pivot_Eth'],\n",
              "      dtype='object')"
            ]
          },
          "metadata": {
            "tags": []
          },
          "execution_count": 345
        }
      ]
    },
    {
      "cell_type": "code",
      "metadata": {
        "colab": {
          "base_uri": "https://localhost:8080/"
        },
        "id": "KLJ8YJFa8ZfV",
        "outputId": "58700604-d301-43f2-82f2-ea0a6aaa0f4f"
      },
      "source": [
        "# Tp get the number of values for each feature\n",
        "df6.count()"
      ],
      "execution_count": 346,
      "outputs": [
        {
          "output_type": "execute_result",
          "data": {
            "text/plain": [
              "Open_Bcoin         2152\n",
              "High_Bcoin         2152\n",
              "Low_Bcoin          2152\n",
              "Close_Bcoin        2152\n",
              "Adj Close_Bcoin    2152\n",
              "Volume_Bcoin       2152\n",
              "Open_Eth           2152\n",
              "High_Eth           2152\n",
              "Low_Eth            2152\n",
              "Close_Eth          2152\n",
              "Adj Close_ETh      2152\n",
              "Volume_Eth         2152\n",
              "Pivot_Bcoin        2152\n",
              "Pivot_Eth          2152\n",
              "dtype: int64"
            ]
          },
          "metadata": {
            "tags": []
          },
          "execution_count": 346
        }
      ]
    },
    {
      "cell_type": "code",
      "metadata": {
        "colab": {
          "base_uri": "https://localhost:8080/",
          "height": 334
        },
        "id": "cKsx16CE8ZiK",
        "outputId": "f3c13491-0812-48d3-975e-cb08129314f3"
      },
      "source": [
        "# To get the descriptive statistics like mean, median, mode, 25% Quartile, 50% Quartile, 75% Quartile, Min and Max values\n",
        "df6.describe()"
      ],
      "execution_count": 347,
      "outputs": [
        {
          "output_type": "execute_result",
          "data": {
            "text/html": [
              "<div>\n",
              "<style scoped>\n",
              "    .dataframe tbody tr th:only-of-type {\n",
              "        vertical-align: middle;\n",
              "    }\n",
              "\n",
              "    .dataframe tbody tr th {\n",
              "        vertical-align: top;\n",
              "    }\n",
              "\n",
              "    .dataframe thead th {\n",
              "        text-align: right;\n",
              "    }\n",
              "</style>\n",
              "<table border=\"1\" class=\"dataframe\">\n",
              "  <thead>\n",
              "    <tr style=\"text-align: right;\">\n",
              "      <th></th>\n",
              "      <th>Open_Bcoin</th>\n",
              "      <th>High_Bcoin</th>\n",
              "      <th>Low_Bcoin</th>\n",
              "      <th>Close_Bcoin</th>\n",
              "      <th>Adj Close_Bcoin</th>\n",
              "      <th>Volume_Bcoin</th>\n",
              "      <th>Open_Eth</th>\n",
              "      <th>High_Eth</th>\n",
              "      <th>Low_Eth</th>\n",
              "      <th>Close_Eth</th>\n",
              "      <th>Adj Close_ETh</th>\n",
              "      <th>Volume_Eth</th>\n",
              "      <th>Pivot_Bcoin</th>\n",
              "      <th>Pivot_Eth</th>\n",
              "    </tr>\n",
              "  </thead>\n",
              "  <tbody>\n",
              "    <tr>\n",
              "      <th>count</th>\n",
              "      <td>2152.000000</td>\n",
              "      <td>2152.000000</td>\n",
              "      <td>2152.000000</td>\n",
              "      <td>2152.000000</td>\n",
              "      <td>2152.000000</td>\n",
              "      <td>2.152000e+03</td>\n",
              "      <td>2152.000000</td>\n",
              "      <td>2152.000000</td>\n",
              "      <td>2152.000000</td>\n",
              "      <td>2152.000000</td>\n",
              "      <td>2152.000000</td>\n",
              "      <td>2.152000e+03</td>\n",
              "      <td>2152.000000</td>\n",
              "      <td>2152.000000</td>\n",
              "    </tr>\n",
              "    <tr>\n",
              "      <th>mean</th>\n",
              "      <td>378.588694</td>\n",
              "      <td>393.787938</td>\n",
              "      <td>361.401966</td>\n",
              "      <td>379.498925</td>\n",
              "      <td>379.498925</td>\n",
              "      <td>6.995459e+09</td>\n",
              "      <td>9069.468888</td>\n",
              "      <td>9330.798279</td>\n",
              "      <td>8778.697147</td>\n",
              "      <td>9083.587261</td>\n",
              "      <td>9083.587261</td>\n",
              "      <td>1.484710e+10</td>\n",
              "      <td>377.926199</td>\n",
              "      <td>9059.654771</td>\n",
              "    </tr>\n",
              "    <tr>\n",
              "      <th>std</th>\n",
              "      <td>594.402066</td>\n",
              "      <td>622.583523</td>\n",
              "      <td>561.211461</td>\n",
              "      <td>595.455401</td>\n",
              "      <td>595.455401</td>\n",
              "      <td>1.063684e+10</td>\n",
              "      <td>12419.771744</td>\n",
              "      <td>12814.107691</td>\n",
              "      <td>11947.792262</td>\n",
              "      <td>12427.184322</td>\n",
              "      <td>12427.184322</td>\n",
              "      <td>2.059555e+10</td>\n",
              "      <td>592.270214</td>\n",
              "      <td>12389.527337</td>\n",
              "    </tr>\n",
              "    <tr>\n",
              "      <th>min</th>\n",
              "      <td>0.431589</td>\n",
              "      <td>0.482988</td>\n",
              "      <td>0.420897</td>\n",
              "      <td>0.434829</td>\n",
              "      <td>0.434829</td>\n",
              "      <td>1.021280e+05</td>\n",
              "      <td>210.067993</td>\n",
              "      <td>226.320999</td>\n",
              "      <td>199.567001</td>\n",
              "      <td>210.494995</td>\n",
              "      <td>210.494995</td>\n",
              "      <td>1.271260e+07</td>\n",
              "      <td>0.445158</td>\n",
              "      <td>211.985331</td>\n",
              "    </tr>\n",
              "    <tr>\n",
              "      <th>25%</th>\n",
              "      <td>13.677825</td>\n",
              "      <td>14.108875</td>\n",
              "      <td>13.137275</td>\n",
              "      <td>13.722550</td>\n",
              "      <td>13.722550</td>\n",
              "      <td>3.801820e+07</td>\n",
              "      <td>969.120239</td>\n",
              "      <td>978.527985</td>\n",
              "      <td>934.712738</td>\n",
              "      <td>969.483505</td>\n",
              "      <td>969.483505</td>\n",
              "      <td>1.845345e+08</td>\n",
              "      <td>13.622742</td>\n",
              "      <td>967.248154</td>\n",
              "    </tr>\n",
              "    <tr>\n",
              "      <th>50%</th>\n",
              "      <td>197.593002</td>\n",
              "      <td>204.397499</td>\n",
              "      <td>192.007446</td>\n",
              "      <td>197.715500</td>\n",
              "      <td>197.715500</td>\n",
              "      <td>2.130523e+09</td>\n",
              "      <td>6475.214844</td>\n",
              "      <td>6576.979980</td>\n",
              "      <td>6372.354980</td>\n",
              "      <td>6476.500000</td>\n",
              "      <td>6476.500000</td>\n",
              "      <td>5.490948e+09</td>\n",
              "      <td>198.574664</td>\n",
              "      <td>6478.819987</td>\n",
              "    </tr>\n",
              "    <tr>\n",
              "      <th>75%</th>\n",
              "      <td>385.561897</td>\n",
              "      <td>395.215538</td>\n",
              "      <td>373.820457</td>\n",
              "      <td>385.576263</td>\n",
              "      <td>385.576263</td>\n",
              "      <td>9.378583e+09</td>\n",
              "      <td>9696.250732</td>\n",
              "      <td>9906.721924</td>\n",
              "      <td>9503.207275</td>\n",
              "      <td>9698.228516</td>\n",
              "      <td>9698.228516</td>\n",
              "      <td>2.248658e+10</td>\n",
              "      <td>384.693499</td>\n",
              "      <td>9705.075928</td>\n",
              "    </tr>\n",
              "    <tr>\n",
              "      <th>max</th>\n",
              "      <td>4174.635742</td>\n",
              "      <td>4362.350586</td>\n",
              "      <td>3785.848633</td>\n",
              "      <td>4168.701172</td>\n",
              "      <td>4168.701172</td>\n",
              "      <td>8.448291e+10</td>\n",
              "      <td>63523.753906</td>\n",
              "      <td>64863.097656</td>\n",
              "      <td>62208.964844</td>\n",
              "      <td>63503.457031</td>\n",
              "      <td>63503.457031</td>\n",
              "      <td>3.509679e+11</td>\n",
              "      <td>4107.611654</td>\n",
              "      <td>63313.882812</td>\n",
              "    </tr>\n",
              "  </tbody>\n",
              "</table>\n",
              "</div>"
            ],
            "text/plain": [
              "        Open_Bcoin   High_Bcoin  ...  Pivot_Bcoin     Pivot_Eth\n",
              "count  2152.000000  2152.000000  ...  2152.000000   2152.000000\n",
              "mean    378.588694   393.787938  ...   377.926199   9059.654771\n",
              "std     594.402066   622.583523  ...   592.270214  12389.527337\n",
              "min       0.431589     0.482988  ...     0.445158    211.985331\n",
              "25%      13.677825    14.108875  ...    13.622742    967.248154\n",
              "50%     197.593002   204.397499  ...   198.574664   6478.819987\n",
              "75%     385.561897   395.215538  ...   384.693499   9705.075928\n",
              "max    4174.635742  4362.350586  ...  4107.611654  63313.882812\n",
              "\n",
              "[8 rows x 14 columns]"
            ]
          },
          "metadata": {
            "tags": []
          },
          "execution_count": 347
        }
      ]
    },
    {
      "cell_type": "code",
      "metadata": {
        "id": "32-gTf1uC3ZJ"
      },
      "source": [
        ""
      ],
      "execution_count": 347,
      "outputs": []
    },
    {
      "cell_type": "code",
      "metadata": {
        "colab": {
          "base_uri": "https://localhost:8080/",
          "height": 357
        },
        "id": "CG8C418RC3c9",
        "outputId": "0f1e4fa2-e0a2-488d-82ba-15f2c71e728a"
      },
      "source": [
        "# To get the top 5 rows\n",
        "df6[0:5]"
      ],
      "execution_count": 348,
      "outputs": [
        {
          "output_type": "execute_result",
          "data": {
            "text/html": [
              "<div>\n",
              "<style scoped>\n",
              "    .dataframe tbody tr th:only-of-type {\n",
              "        vertical-align: middle;\n",
              "    }\n",
              "\n",
              "    .dataframe tbody tr th {\n",
              "        vertical-align: top;\n",
              "    }\n",
              "\n",
              "    .dataframe thead th {\n",
              "        text-align: right;\n",
              "    }\n",
              "</style>\n",
              "<table border=\"1\" class=\"dataframe\">\n",
              "  <thead>\n",
              "    <tr style=\"text-align: right;\">\n",
              "      <th></th>\n",
              "      <th>Open_Bcoin</th>\n",
              "      <th>High_Bcoin</th>\n",
              "      <th>Low_Bcoin</th>\n",
              "      <th>Close_Bcoin</th>\n",
              "      <th>Adj Close_Bcoin</th>\n",
              "      <th>Volume_Bcoin</th>\n",
              "      <th>Open_Eth</th>\n",
              "      <th>High_Eth</th>\n",
              "      <th>Low_Eth</th>\n",
              "      <th>Close_Eth</th>\n",
              "      <th>Adj Close_ETh</th>\n",
              "      <th>Volume_Eth</th>\n",
              "      <th>Pivot_Bcoin</th>\n",
              "      <th>Pivot_Eth</th>\n",
              "    </tr>\n",
              "    <tr>\n",
              "      <th>Date</th>\n",
              "      <th></th>\n",
              "      <th></th>\n",
              "      <th></th>\n",
              "      <th></th>\n",
              "      <th></th>\n",
              "      <th></th>\n",
              "      <th></th>\n",
              "      <th></th>\n",
              "      <th></th>\n",
              "      <th></th>\n",
              "      <th></th>\n",
              "      <th></th>\n",
              "      <th></th>\n",
              "      <th></th>\n",
              "    </tr>\n",
              "  </thead>\n",
              "  <tbody>\n",
              "    <tr>\n",
              "      <th>2015-08-07</th>\n",
              "      <td>2.831620</td>\n",
              "      <td>3.536610</td>\n",
              "      <td>2.521120</td>\n",
              "      <td>2.772120</td>\n",
              "      <td>2.772120</td>\n",
              "      <td>164329</td>\n",
              "      <td>278.740997</td>\n",
              "      <td>280.391998</td>\n",
              "      <td>276.365997</td>\n",
              "      <td>279.584991</td>\n",
              "      <td>279.584991</td>\n",
              "      <td>42484800</td>\n",
              "      <td>2.963117</td>\n",
              "      <td>278.499664</td>\n",
              "    </tr>\n",
              "    <tr>\n",
              "      <th>2015-08-08</th>\n",
              "      <td>2.793760</td>\n",
              "      <td>2.798810</td>\n",
              "      <td>0.714725</td>\n",
              "      <td>0.753325</td>\n",
              "      <td>0.753325</td>\n",
              "      <td>674188</td>\n",
              "      <td>279.742004</td>\n",
              "      <td>279.928009</td>\n",
              "      <td>260.709991</td>\n",
              "      <td>260.997009</td>\n",
              "      <td>260.997009</td>\n",
              "      <td>58533000</td>\n",
              "      <td>2.102432</td>\n",
              "      <td>273.460002</td>\n",
              "    </tr>\n",
              "    <tr>\n",
              "      <th>2015-08-09</th>\n",
              "      <td>0.706136</td>\n",
              "      <td>0.879810</td>\n",
              "      <td>0.629191</td>\n",
              "      <td>0.701897</td>\n",
              "      <td>0.701897</td>\n",
              "      <td>532170</td>\n",
              "      <td>261.115997</td>\n",
              "      <td>267.002991</td>\n",
              "      <td>260.467987</td>\n",
              "      <td>265.083008</td>\n",
              "      <td>265.083008</td>\n",
              "      <td>23789600</td>\n",
              "      <td>0.738379</td>\n",
              "      <td>262.862325</td>\n",
              "    </tr>\n",
              "    <tr>\n",
              "      <th>2015-08-10</th>\n",
              "      <td>0.713989</td>\n",
              "      <td>0.729854</td>\n",
              "      <td>0.636546</td>\n",
              "      <td>0.708448</td>\n",
              "      <td>0.708448</td>\n",
              "      <td>405283</td>\n",
              "      <td>265.477997</td>\n",
              "      <td>267.032013</td>\n",
              "      <td>262.596008</td>\n",
              "      <td>264.470001</td>\n",
              "      <td>264.470001</td>\n",
              "      <td>20979400</td>\n",
              "      <td>0.693463</td>\n",
              "      <td>265.035339</td>\n",
              "    </tr>\n",
              "    <tr>\n",
              "      <th>2015-08-11</th>\n",
              "      <td>0.708087</td>\n",
              "      <td>1.131410</td>\n",
              "      <td>0.663235</td>\n",
              "      <td>1.067860</td>\n",
              "      <td>1.067860</td>\n",
              "      <td>1463100</td>\n",
              "      <td>264.342010</td>\n",
              "      <td>270.385986</td>\n",
              "      <td>264.093994</td>\n",
              "      <td>270.385986</td>\n",
              "      <td>270.385986</td>\n",
              "      <td>25433900</td>\n",
              "      <td>0.834244</td>\n",
              "      <td>266.273997</td>\n",
              "    </tr>\n",
              "  </tbody>\n",
              "</table>\n",
              "</div>"
            ],
            "text/plain": [
              "            Open_Bcoin  High_Bcoin  ...  Pivot_Bcoin   Pivot_Eth\n",
              "Date                                ...                         \n",
              "2015-08-07    2.831620    3.536610  ...     2.963117  278.499664\n",
              "2015-08-08    2.793760    2.798810  ...     2.102432  273.460002\n",
              "2015-08-09    0.706136    0.879810  ...     0.738379  262.862325\n",
              "2015-08-10    0.713989    0.729854  ...     0.693463  265.035339\n",
              "2015-08-11    0.708087    1.131410  ...     0.834244  266.273997\n",
              "\n",
              "[5 rows x 14 columns]"
            ]
          },
          "metadata": {
            "tags": []
          },
          "execution_count": 348
        }
      ]
    },
    {
      "cell_type": "code",
      "metadata": {
        "colab": {
          "base_uri": "https://localhost:8080/",
          "height": 501
        },
        "id": "FEZjHug5EQig",
        "outputId": "c1f6d6a3-63da-44b1-9780-6b00dc6c65a6"
      },
      "source": [
        "# To get the last 8 rows\n",
        "df6[len(df6)-8: ]"
      ],
      "execution_count": 349,
      "outputs": [
        {
          "output_type": "execute_result",
          "data": {
            "text/html": [
              "<div>\n",
              "<style scoped>\n",
              "    .dataframe tbody tr th:only-of-type {\n",
              "        vertical-align: middle;\n",
              "    }\n",
              "\n",
              "    .dataframe tbody tr th {\n",
              "        vertical-align: top;\n",
              "    }\n",
              "\n",
              "    .dataframe thead th {\n",
              "        text-align: right;\n",
              "    }\n",
              "</style>\n",
              "<table border=\"1\" class=\"dataframe\">\n",
              "  <thead>\n",
              "    <tr style=\"text-align: right;\">\n",
              "      <th></th>\n",
              "      <th>Open_Bcoin</th>\n",
              "      <th>High_Bcoin</th>\n",
              "      <th>Low_Bcoin</th>\n",
              "      <th>Close_Bcoin</th>\n",
              "      <th>Adj Close_Bcoin</th>\n",
              "      <th>Volume_Bcoin</th>\n",
              "      <th>Open_Eth</th>\n",
              "      <th>High_Eth</th>\n",
              "      <th>Low_Eth</th>\n",
              "      <th>Close_Eth</th>\n",
              "      <th>Adj Close_ETh</th>\n",
              "      <th>Volume_Eth</th>\n",
              "      <th>Pivot_Bcoin</th>\n",
              "      <th>Pivot_Eth</th>\n",
              "    </tr>\n",
              "    <tr>\n",
              "      <th>Date</th>\n",
              "      <th></th>\n",
              "      <th></th>\n",
              "      <th></th>\n",
              "      <th></th>\n",
              "      <th></th>\n",
              "      <th></th>\n",
              "      <th></th>\n",
              "      <th></th>\n",
              "      <th></th>\n",
              "      <th></th>\n",
              "      <th></th>\n",
              "      <th></th>\n",
              "      <th></th>\n",
              "      <th></th>\n",
              "    </tr>\n",
              "  </thead>\n",
              "  <tbody>\n",
              "    <tr>\n",
              "      <th>2021-06-24</th>\n",
              "      <td>1968.957397</td>\n",
              "      <td>2032.339355</td>\n",
              "      <td>1887.432007</td>\n",
              "      <td>1988.456299</td>\n",
              "      <td>1988.456299</td>\n",
              "      <td>20272845769</td>\n",
              "      <td>33682.800781</td>\n",
              "      <td>35228.851562</td>\n",
              "      <td>32385.214844</td>\n",
              "      <td>34662.437500</td>\n",
              "      <td>34662.437500</td>\n",
              "      <td>33123368116</td>\n",
              "      <td>1962.909587</td>\n",
              "      <td>33765.622396</td>\n",
              "    </tr>\n",
              "    <tr>\n",
              "      <th>2021-06-25</th>\n",
              "      <td>1989.215820</td>\n",
              "      <td>2017.759521</td>\n",
              "      <td>1794.400391</td>\n",
              "      <td>1813.217285</td>\n",
              "      <td>1813.217285</td>\n",
              "      <td>22774334998</td>\n",
              "      <td>34659.105469</td>\n",
              "      <td>35487.246094</td>\n",
              "      <td>31350.884766</td>\n",
              "      <td>31637.779297</td>\n",
              "      <td>31637.779297</td>\n",
              "      <td>40230904226</td>\n",
              "      <td>1933.791911</td>\n",
              "      <td>33832.412109</td>\n",
              "    </tr>\n",
              "    <tr>\n",
              "      <th>2021-06-26</th>\n",
              "      <td>1810.884277</td>\n",
              "      <td>1850.179810</td>\n",
              "      <td>1719.559448</td>\n",
              "      <td>1829.239258</td>\n",
              "      <td>1829.239258</td>\n",
              "      <td>20637542361</td>\n",
              "      <td>31594.664062</td>\n",
              "      <td>32637.587891</td>\n",
              "      <td>30184.501953</td>\n",
              "      <td>32186.277344</td>\n",
              "      <td>32186.277344</td>\n",
              "      <td>38585385521</td>\n",
              "      <td>1793.541178</td>\n",
              "      <td>31472.251302</td>\n",
              "    </tr>\n",
              "    <tr>\n",
              "      <th>2021-06-27</th>\n",
              "      <td>1830.996948</td>\n",
              "      <td>1979.958130</td>\n",
              "      <td>1811.245850</td>\n",
              "      <td>1978.894653</td>\n",
              "      <td>1978.894653</td>\n",
              "      <td>19885474742</td>\n",
              "      <td>32287.523438</td>\n",
              "      <td>34656.128906</td>\n",
              "      <td>32071.757812</td>\n",
              "      <td>34649.644531</td>\n",
              "      <td>34649.644531</td>\n",
              "      <td>35511640894</td>\n",
              "      <td>1874.066976</td>\n",
              "      <td>33005.136719</td>\n",
              "    </tr>\n",
              "    <tr>\n",
              "      <th>2021-06-28</th>\n",
              "      <td>1981.386475</td>\n",
              "      <td>2139.805420</td>\n",
              "      <td>1963.615479</td>\n",
              "      <td>2079.657471</td>\n",
              "      <td>2079.657471</td>\n",
              "      <td>25514602841</td>\n",
              "      <td>34679.121094</td>\n",
              "      <td>35219.890625</td>\n",
              "      <td>33902.074219</td>\n",
              "      <td>34434.335938</td>\n",
              "      <td>34434.335938</td>\n",
              "      <td>33892523752</td>\n",
              "      <td>2028.269124</td>\n",
              "      <td>34600.361979</td>\n",
              "    </tr>\n",
              "    <tr>\n",
              "      <th>2021-06-29</th>\n",
              "      <td>2083.448730</td>\n",
              "      <td>2242.238770</td>\n",
              "      <td>2076.240234</td>\n",
              "      <td>2160.768311</td>\n",
              "      <td>2160.768311</td>\n",
              "      <td>24815124419</td>\n",
              "      <td>34475.558594</td>\n",
              "      <td>36542.109375</td>\n",
              "      <td>34252.484375</td>\n",
              "      <td>35867.777344</td>\n",
              "      <td>35867.777344</td>\n",
              "      <td>37901460044</td>\n",
              "      <td>2133.975911</td>\n",
              "      <td>35090.050781</td>\n",
              "    </tr>\n",
              "    <tr>\n",
              "      <th>2021-06-30</th>\n",
              "      <td>2164.216309</td>\n",
              "      <td>2282.989014</td>\n",
              "      <td>2090.760742</td>\n",
              "      <td>2274.547607</td>\n",
              "      <td>2274.547607</td>\n",
              "      <td>25828056268</td>\n",
              "      <td>35908.386719</td>\n",
              "      <td>36074.757812</td>\n",
              "      <td>34086.152344</td>\n",
              "      <td>35040.835938</td>\n",
              "      <td>35040.835938</td>\n",
              "      <td>34059036099</td>\n",
              "      <td>2179.322021</td>\n",
              "      <td>35356.432292</td>\n",
              "    </tr>\n",
              "    <tr>\n",
              "      <th>2021-07-01</th>\n",
              "      <td>2265.371582</td>\n",
              "      <td>2265.411133</td>\n",
              "      <td>2083.572754</td>\n",
              "      <td>2105.031494</td>\n",
              "      <td>2105.031494</td>\n",
              "      <td>31636858880</td>\n",
              "      <td>34971.144531</td>\n",
              "      <td>34974.652344</td>\n",
              "      <td>33130.027344</td>\n",
              "      <td>33369.765625</td>\n",
              "      <td>33369.765625</td>\n",
              "      <td>39336603648</td>\n",
              "      <td>2204.785156</td>\n",
              "      <td>34358.608073</td>\n",
              "    </tr>\n",
              "  </tbody>\n",
              "</table>\n",
              "</div>"
            ],
            "text/plain": [
              "             Open_Bcoin   High_Bcoin  ...  Pivot_Bcoin     Pivot_Eth\n",
              "Date                                  ...                           \n",
              "2021-06-24  1968.957397  2032.339355  ...  1962.909587  33765.622396\n",
              "2021-06-25  1989.215820  2017.759521  ...  1933.791911  33832.412109\n",
              "2021-06-26  1810.884277  1850.179810  ...  1793.541178  31472.251302\n",
              "2021-06-27  1830.996948  1979.958130  ...  1874.066976  33005.136719\n",
              "2021-06-28  1981.386475  2139.805420  ...  2028.269124  34600.361979\n",
              "2021-06-29  2083.448730  2242.238770  ...  2133.975911  35090.050781\n",
              "2021-06-30  2164.216309  2282.989014  ...  2179.322021  35356.432292\n",
              "2021-07-01  2265.371582  2265.411133  ...  2204.785156  34358.608073\n",
              "\n",
              "[8 rows x 14 columns]"
            ]
          },
          "metadata": {
            "tags": []
          },
          "execution_count": 349
        }
      ]
    },
    {
      "cell_type": "code",
      "metadata": {
        "colab": {
          "base_uri": "https://localhost:8080/"
        },
        "id": "2b0jdbSCDD8a",
        "outputId": "a040a4c2-31b4-47b5-9264-20672baffb06"
      },
      "source": [
        "# To get the values of a particluar columns\n",
        "df6[\"Open_Bcoin\"].head()"
      ],
      "execution_count": 350,
      "outputs": [
        {
          "output_type": "execute_result",
          "data": {
            "text/plain": [
              "Date\n",
              "2015-08-07    2.831620\n",
              "2015-08-08    2.793760\n",
              "2015-08-09    0.706136\n",
              "2015-08-10    0.713989\n",
              "2015-08-11    0.708087\n",
              "Name: Open_Bcoin, dtype: float64"
            ]
          },
          "metadata": {
            "tags": []
          },
          "execution_count": 350
        }
      ]
    },
    {
      "cell_type": "code",
      "metadata": {
        "colab": {
          "base_uri": "https://localhost:8080/"
        },
        "id": "VTOcY4bGKzqT",
        "outputId": "56950c02-e3b4-4bc7-a252-760507cc8249"
      },
      "source": [
        "# To get the shape of the column\n",
        "df6[\"Open_Bcoin\"].shape"
      ],
      "execution_count": 351,
      "outputs": [
        {
          "output_type": "execute_result",
          "data": {
            "text/plain": [
              "(2152,)"
            ]
          },
          "metadata": {
            "tags": []
          },
          "execution_count": 351
        }
      ]
    },
    {
      "cell_type": "code",
      "metadata": {
        "colab": {
          "base_uri": "https://localhost:8080/"
        },
        "id": "qqAYuawRDD_4",
        "outputId": "0ab851c4-2a6c-48f6-cb7a-921413a90b54"
      },
      "source": [
        "# To get the column values from 165 to 172 th row of a feature \n",
        "(df6[\"Open_Bcoin\"][164:172])"
      ],
      "execution_count": 352,
      "outputs": [
        {
          "output_type": "execute_result",
          "data": {
            "text/plain": [
              "Date\n",
              "2016-01-18    1.33231\n",
              "2016-01-19    1.42261\n",
              "2016-01-20    1.36318\n",
              "2016-01-21    1.53270\n",
              "2016-01-22    1.54703\n",
              "2016-01-23    1.50412\n",
              "2016-01-24    1.90054\n",
              "2016-01-25    2.14764\n",
              "Name: Open_Bcoin, dtype: float64"
            ]
          },
          "metadata": {
            "tags": []
          },
          "execution_count": 352
        }
      ]
    },
    {
      "cell_type": "code",
      "metadata": {
        "colab": {
          "base_uri": "https://localhost:8080/",
          "height": 204
        },
        "id": "WhF8IB4vO53l",
        "outputId": "de22bd17-711f-4645-f4db-c5a176d0b57e"
      },
      "source": [
        "# By using iloc function, we get the values form 12 to 15 rows and 6 & 7 columns\n",
        "df6.iloc[11:15,5:7]"
      ],
      "execution_count": 353,
      "outputs": [
        {
          "output_type": "execute_result",
          "data": {
            "text/html": [
              "<div>\n",
              "<style scoped>\n",
              "    .dataframe tbody tr th:only-of-type {\n",
              "        vertical-align: middle;\n",
              "    }\n",
              "\n",
              "    .dataframe tbody tr th {\n",
              "        vertical-align: top;\n",
              "    }\n",
              "\n",
              "    .dataframe thead th {\n",
              "        text-align: right;\n",
              "    }\n",
              "</style>\n",
              "<table border=\"1\" class=\"dataframe\">\n",
              "  <thead>\n",
              "    <tr style=\"text-align: right;\">\n",
              "      <th></th>\n",
              "      <th>Volume_Bcoin</th>\n",
              "      <th>Open_Eth</th>\n",
              "    </tr>\n",
              "    <tr>\n",
              "      <th>Date</th>\n",
              "      <th></th>\n",
              "      <th></th>\n",
              "    </tr>\n",
              "  </thead>\n",
              "  <tbody>\n",
              "    <tr>\n",
              "      <th>2015-08-18</th>\n",
              "      <td>1485680</td>\n",
              "      <td>257.925995</td>\n",
              "    </tr>\n",
              "    <tr>\n",
              "      <th>2015-08-19</th>\n",
              "      <td>1486240</td>\n",
              "      <td>225.671005</td>\n",
              "    </tr>\n",
              "    <tr>\n",
              "      <th>2015-08-20</th>\n",
              "      <td>2843760</td>\n",
              "      <td>226.899002</td>\n",
              "    </tr>\n",
              "    <tr>\n",
              "      <th>2015-08-21</th>\n",
              "      <td>2020970</td>\n",
              "      <td>235.354996</td>\n",
              "    </tr>\n",
              "  </tbody>\n",
              "</table>\n",
              "</div>"
            ],
            "text/plain": [
              "            Volume_Bcoin    Open_Eth\n",
              "Date                                \n",
              "2015-08-18       1485680  257.925995\n",
              "2015-08-19       1486240  225.671005\n",
              "2015-08-20       2843760  226.899002\n",
              "2015-08-21       2020970  235.354996"
            ]
          },
          "metadata": {
            "tags": []
          },
          "execution_count": 353
        }
      ]
    },
    {
      "cell_type": "code",
      "metadata": {
        "colab": {
          "base_uri": "https://localhost:8080/"
        },
        "id": "nrJN1WgMQ-FW",
        "outputId": "8e31cbb5-f515-4216-b315-898b578875be"
      },
      "source": [
        "# To check the values of two columns using operators, to compare values between two columns ( Ethereum and Bitcoin). Bitcoin always\n",
        "#greater , so False\n",
        "df1[\"Open\"] > df2[\"Open\"]"
      ],
      "execution_count": 354,
      "outputs": [
        {
          "output_type": "execute_result",
          "data": {
            "text/plain": [
              "Date\n",
              "2015-08-07    False\n",
              "2015-08-08    False\n",
              "2015-08-09    False\n",
              "2015-08-10    False\n",
              "2015-08-11    False\n",
              "              ...  \n",
              "2021-06-27    False\n",
              "2021-06-28    False\n",
              "2021-06-29    False\n",
              "2021-06-30    False\n",
              "2021-07-01    False\n",
              "Name: Open, Length: 2152, dtype: bool"
            ]
          },
          "metadata": {
            "tags": []
          },
          "execution_count": 354
        }
      ]
    },
    {
      "cell_type": "code",
      "metadata": {
        "colab": {
          "base_uri": "https://localhost:8080/",
          "height": 657
        },
        "id": "5yWUjG_sQ-I_",
        "outputId": "e50f02dc-f8e6-4619-f4b5-bf91bbf447aa"
      },
      "source": [
        "#  To check null values in a datframe , True means null, false menas not null\n",
        "df6.isna()"
      ],
      "execution_count": 355,
      "outputs": [
        {
          "output_type": "execute_result",
          "data": {
            "text/html": [
              "<div>\n",
              "<style scoped>\n",
              "    .dataframe tbody tr th:only-of-type {\n",
              "        vertical-align: middle;\n",
              "    }\n",
              "\n",
              "    .dataframe tbody tr th {\n",
              "        vertical-align: top;\n",
              "    }\n",
              "\n",
              "    .dataframe thead th {\n",
              "        text-align: right;\n",
              "    }\n",
              "</style>\n",
              "<table border=\"1\" class=\"dataframe\">\n",
              "  <thead>\n",
              "    <tr style=\"text-align: right;\">\n",
              "      <th></th>\n",
              "      <th>Open_Bcoin</th>\n",
              "      <th>High_Bcoin</th>\n",
              "      <th>Low_Bcoin</th>\n",
              "      <th>Close_Bcoin</th>\n",
              "      <th>Adj Close_Bcoin</th>\n",
              "      <th>Volume_Bcoin</th>\n",
              "      <th>Open_Eth</th>\n",
              "      <th>High_Eth</th>\n",
              "      <th>Low_Eth</th>\n",
              "      <th>Close_Eth</th>\n",
              "      <th>Adj Close_ETh</th>\n",
              "      <th>Volume_Eth</th>\n",
              "      <th>Pivot_Bcoin</th>\n",
              "      <th>Pivot_Eth</th>\n",
              "    </tr>\n",
              "    <tr>\n",
              "      <th>Date</th>\n",
              "      <th></th>\n",
              "      <th></th>\n",
              "      <th></th>\n",
              "      <th></th>\n",
              "      <th></th>\n",
              "      <th></th>\n",
              "      <th></th>\n",
              "      <th></th>\n",
              "      <th></th>\n",
              "      <th></th>\n",
              "      <th></th>\n",
              "      <th></th>\n",
              "      <th></th>\n",
              "      <th></th>\n",
              "    </tr>\n",
              "  </thead>\n",
              "  <tbody>\n",
              "    <tr>\n",
              "      <th>2015-08-07</th>\n",
              "      <td>False</td>\n",
              "      <td>False</td>\n",
              "      <td>False</td>\n",
              "      <td>False</td>\n",
              "      <td>False</td>\n",
              "      <td>False</td>\n",
              "      <td>False</td>\n",
              "      <td>False</td>\n",
              "      <td>False</td>\n",
              "      <td>False</td>\n",
              "      <td>False</td>\n",
              "      <td>False</td>\n",
              "      <td>False</td>\n",
              "      <td>False</td>\n",
              "    </tr>\n",
              "    <tr>\n",
              "      <th>2015-08-08</th>\n",
              "      <td>False</td>\n",
              "      <td>False</td>\n",
              "      <td>False</td>\n",
              "      <td>False</td>\n",
              "      <td>False</td>\n",
              "      <td>False</td>\n",
              "      <td>False</td>\n",
              "      <td>False</td>\n",
              "      <td>False</td>\n",
              "      <td>False</td>\n",
              "      <td>False</td>\n",
              "      <td>False</td>\n",
              "      <td>False</td>\n",
              "      <td>False</td>\n",
              "    </tr>\n",
              "    <tr>\n",
              "      <th>2015-08-09</th>\n",
              "      <td>False</td>\n",
              "      <td>False</td>\n",
              "      <td>False</td>\n",
              "      <td>False</td>\n",
              "      <td>False</td>\n",
              "      <td>False</td>\n",
              "      <td>False</td>\n",
              "      <td>False</td>\n",
              "      <td>False</td>\n",
              "      <td>False</td>\n",
              "      <td>False</td>\n",
              "      <td>False</td>\n",
              "      <td>False</td>\n",
              "      <td>False</td>\n",
              "    </tr>\n",
              "    <tr>\n",
              "      <th>2015-08-10</th>\n",
              "      <td>False</td>\n",
              "      <td>False</td>\n",
              "      <td>False</td>\n",
              "      <td>False</td>\n",
              "      <td>False</td>\n",
              "      <td>False</td>\n",
              "      <td>False</td>\n",
              "      <td>False</td>\n",
              "      <td>False</td>\n",
              "      <td>False</td>\n",
              "      <td>False</td>\n",
              "      <td>False</td>\n",
              "      <td>False</td>\n",
              "      <td>False</td>\n",
              "    </tr>\n",
              "    <tr>\n",
              "      <th>2015-08-11</th>\n",
              "      <td>False</td>\n",
              "      <td>False</td>\n",
              "      <td>False</td>\n",
              "      <td>False</td>\n",
              "      <td>False</td>\n",
              "      <td>False</td>\n",
              "      <td>False</td>\n",
              "      <td>False</td>\n",
              "      <td>False</td>\n",
              "      <td>False</td>\n",
              "      <td>False</td>\n",
              "      <td>False</td>\n",
              "      <td>False</td>\n",
              "      <td>False</td>\n",
              "    </tr>\n",
              "    <tr>\n",
              "      <th>...</th>\n",
              "      <td>...</td>\n",
              "      <td>...</td>\n",
              "      <td>...</td>\n",
              "      <td>...</td>\n",
              "      <td>...</td>\n",
              "      <td>...</td>\n",
              "      <td>...</td>\n",
              "      <td>...</td>\n",
              "      <td>...</td>\n",
              "      <td>...</td>\n",
              "      <td>...</td>\n",
              "      <td>...</td>\n",
              "      <td>...</td>\n",
              "      <td>...</td>\n",
              "    </tr>\n",
              "    <tr>\n",
              "      <th>2021-06-27</th>\n",
              "      <td>False</td>\n",
              "      <td>False</td>\n",
              "      <td>False</td>\n",
              "      <td>False</td>\n",
              "      <td>False</td>\n",
              "      <td>False</td>\n",
              "      <td>False</td>\n",
              "      <td>False</td>\n",
              "      <td>False</td>\n",
              "      <td>False</td>\n",
              "      <td>False</td>\n",
              "      <td>False</td>\n",
              "      <td>False</td>\n",
              "      <td>False</td>\n",
              "    </tr>\n",
              "    <tr>\n",
              "      <th>2021-06-28</th>\n",
              "      <td>False</td>\n",
              "      <td>False</td>\n",
              "      <td>False</td>\n",
              "      <td>False</td>\n",
              "      <td>False</td>\n",
              "      <td>False</td>\n",
              "      <td>False</td>\n",
              "      <td>False</td>\n",
              "      <td>False</td>\n",
              "      <td>False</td>\n",
              "      <td>False</td>\n",
              "      <td>False</td>\n",
              "      <td>False</td>\n",
              "      <td>False</td>\n",
              "    </tr>\n",
              "    <tr>\n",
              "      <th>2021-06-29</th>\n",
              "      <td>False</td>\n",
              "      <td>False</td>\n",
              "      <td>False</td>\n",
              "      <td>False</td>\n",
              "      <td>False</td>\n",
              "      <td>False</td>\n",
              "      <td>False</td>\n",
              "      <td>False</td>\n",
              "      <td>False</td>\n",
              "      <td>False</td>\n",
              "      <td>False</td>\n",
              "      <td>False</td>\n",
              "      <td>False</td>\n",
              "      <td>False</td>\n",
              "    </tr>\n",
              "    <tr>\n",
              "      <th>2021-06-30</th>\n",
              "      <td>False</td>\n",
              "      <td>False</td>\n",
              "      <td>False</td>\n",
              "      <td>False</td>\n",
              "      <td>False</td>\n",
              "      <td>False</td>\n",
              "      <td>False</td>\n",
              "      <td>False</td>\n",
              "      <td>False</td>\n",
              "      <td>False</td>\n",
              "      <td>False</td>\n",
              "      <td>False</td>\n",
              "      <td>False</td>\n",
              "      <td>False</td>\n",
              "    </tr>\n",
              "    <tr>\n",
              "      <th>2021-07-01</th>\n",
              "      <td>False</td>\n",
              "      <td>False</td>\n",
              "      <td>False</td>\n",
              "      <td>False</td>\n",
              "      <td>False</td>\n",
              "      <td>False</td>\n",
              "      <td>False</td>\n",
              "      <td>False</td>\n",
              "      <td>False</td>\n",
              "      <td>False</td>\n",
              "      <td>False</td>\n",
              "      <td>False</td>\n",
              "      <td>False</td>\n",
              "      <td>False</td>\n",
              "    </tr>\n",
              "  </tbody>\n",
              "</table>\n",
              "<p>2152 rows × 14 columns</p>\n",
              "</div>"
            ],
            "text/plain": [
              "            Open_Bcoin  High_Bcoin  ...  Pivot_Bcoin  Pivot_Eth\n",
              "Date                                ...                        \n",
              "2015-08-07       False       False  ...        False      False\n",
              "2015-08-08       False       False  ...        False      False\n",
              "2015-08-09       False       False  ...        False      False\n",
              "2015-08-10       False       False  ...        False      False\n",
              "2015-08-11       False       False  ...        False      False\n",
              "...                ...         ...  ...          ...        ...\n",
              "2021-06-27       False       False  ...        False      False\n",
              "2021-06-28       False       False  ...        False      False\n",
              "2021-06-29       False       False  ...        False      False\n",
              "2021-06-30       False       False  ...        False      False\n",
              "2021-07-01       False       False  ...        False      False\n",
              "\n",
              "[2152 rows x 14 columns]"
            ]
          },
          "metadata": {
            "tags": []
          },
          "execution_count": 355
        }
      ]
    },
    {
      "cell_type": "code",
      "metadata": {
        "colab": {
          "base_uri": "https://localhost:8080/"
        },
        "id": "6X2NGtfTQ-Mi",
        "outputId": "eceb6522-b821-4f77-e68f-52582c70f7e0"
      },
      "source": [
        "# To get the count of null values in a Dataframe in a column \n",
        "df6.isnull().sum()"
      ],
      "execution_count": 356,
      "outputs": [
        {
          "output_type": "execute_result",
          "data": {
            "text/plain": [
              "Open_Bcoin         0\n",
              "High_Bcoin         0\n",
              "Low_Bcoin          0\n",
              "Close_Bcoin        0\n",
              "Adj Close_Bcoin    0\n",
              "Volume_Bcoin       0\n",
              "Open_Eth           0\n",
              "High_Eth           0\n",
              "Low_Eth            0\n",
              "Close_Eth          0\n",
              "Adj Close_ETh      0\n",
              "Volume_Eth         0\n",
              "Pivot_Bcoin        0\n",
              "Pivot_Eth          0\n",
              "dtype: int64"
            ]
          },
          "metadata": {
            "tags": []
          },
          "execution_count": 356
        }
      ]
    },
    {
      "cell_type": "code",
      "metadata": {
        "id": "eGrCYEjeTCpP"
      },
      "source": [
        ""
      ],
      "execution_count": 356,
      "outputs": []
    },
    {
      "cell_type": "code",
      "metadata": {
        "colab": {
          "base_uri": "https://localhost:8080/"
        },
        "id": "d9X7aIkLTCzV",
        "outputId": "d0f6f82b-35e6-42c2-fc2f-33631910947f"
      },
      "source": [
        "# To get the count of null values in a row\n",
        "df6.isnull().sum(axis=1)"
      ],
      "execution_count": 357,
      "outputs": [
        {
          "output_type": "execute_result",
          "data": {
            "text/plain": [
              "Date\n",
              "2015-08-07    0\n",
              "2015-08-08    0\n",
              "2015-08-09    0\n",
              "2015-08-10    0\n",
              "2015-08-11    0\n",
              "             ..\n",
              "2021-06-27    0\n",
              "2021-06-28    0\n",
              "2021-06-29    0\n",
              "2021-06-30    0\n",
              "2021-07-01    0\n",
              "Length: 2152, dtype: int64"
            ]
          },
          "metadata": {
            "tags": []
          },
          "execution_count": 357
        }
      ]
    },
    {
      "cell_type": "code",
      "metadata": {
        "id": "esV2cWUSUOsB"
      },
      "source": [
        " class_23 = df6[df6[\"Open_Bcoin\"].isin([2, 3])]"
      ],
      "execution_count": 358,
      "outputs": []
    },
    {
      "cell_type": "code",
      "metadata": {
        "colab": {
          "base_uri": "https://localhost:8080/"
        },
        "id": "TIk5pknkUO4w",
        "outputId": "d211d10c-a1b4-4610-c173-1e46f5c08aa6"
      },
      "source": [
        "# To get the names of columns in a Dataframe \n",
        "df1.columns"
      ],
      "execution_count": 359,
      "outputs": [
        {
          "output_type": "execute_result",
          "data": {
            "text/plain": [
              "Index(['Open', 'High', 'Low', 'Close', 'Adj Close', 'Volume'], dtype='object')"
            ]
          },
          "metadata": {
            "tags": []
          },
          "execution_count": 359
        }
      ]
    },
    {
      "cell_type": "code",
      "metadata": {
        "id": "aIWccxeNVa3n"
      },
      "source": [
        "# To fill values using  Back fill for null values, along columns values\n",
        "df6= df6.fillna(method=\"bfill\")"
      ],
      "execution_count": 360,
      "outputs": []
    },
    {
      "cell_type": "code",
      "metadata": {
        "id": "y5vROqY_Va6l"
      },
      "source": [
        "# To fill values using Forward fill  for filling null values, along column values\n",
        "df6= df6.fillna(method=\"ffill\")"
      ],
      "execution_count": 361,
      "outputs": []
    },
    {
      "cell_type": "code",
      "metadata": {
        "colab": {
          "base_uri": "https://localhost:8080/"
        },
        "id": "XhozX0VaVbA0",
        "outputId": "a7327764-dbc3-4558-97eb-c0f1ac6f6bed"
      },
      "source": [
        "# To find the datatype of the dataframe\n",
        "print(type(df6))"
      ],
      "execution_count": 362,
      "outputs": [
        {
          "output_type": "stream",
          "text": [
            "<class 'pandas.core.frame.DataFrame'>\n"
          ],
          "name": "stdout"
        }
      ]
    },
    {
      "cell_type": "code",
      "metadata": {
        "colab": {
          "base_uri": "https://localhost:8080/"
        },
        "id": "klBcWMujWtqK",
        "outputId": "7b1c1bde-d307-4a1c-9057-46df7a4372b8"
      },
      "source": [
        "# To chekc the datatype of the Column\n",
        "print(type(df6[\"Open_Bcoin\"]))"
      ],
      "execution_count": 363,
      "outputs": [
        {
          "output_type": "stream",
          "text": [
            "<class 'pandas.core.series.Series'>\n"
          ],
          "name": "stdout"
        }
      ]
    },
    {
      "cell_type": "code",
      "metadata": {
        "id": "QP1gXwIrVbD0"
      },
      "source": [
        "# merging two dataframes inner, intersection\n",
        "df8= pd.merge(df1,df2,how=\"inner\",on=None,left_on=None, right_on=None, left_index=False, right_index=False, sort=True, suffixes=(\"_x\", \"_y\"),copy=True, indicator=False,\n",
        "    validate=None,)\n",
        "\n"
      ],
      "execution_count": 364,
      "outputs": []
    },
    {
      "cell_type": "code",
      "metadata": {
        "colab": {
          "base_uri": "https://localhost:8080/",
          "height": 49
        },
        "id": "E_EyUlgEdfSK",
        "outputId": "e155da4a-2f5e-4db9-cd0b-9758ac5b06ff"
      },
      "source": [
        "df8"
      ],
      "execution_count": 365,
      "outputs": [
        {
          "output_type": "execute_result",
          "data": {
            "text/html": [
              "<div>\n",
              "<style scoped>\n",
              "    .dataframe tbody tr th:only-of-type {\n",
              "        vertical-align: middle;\n",
              "    }\n",
              "\n",
              "    .dataframe tbody tr th {\n",
              "        vertical-align: top;\n",
              "    }\n",
              "\n",
              "    .dataframe thead th {\n",
              "        text-align: right;\n",
              "    }\n",
              "</style>\n",
              "<table border=\"1\" class=\"dataframe\">\n",
              "  <thead>\n",
              "    <tr style=\"text-align: right;\">\n",
              "      <th></th>\n",
              "      <th>Open</th>\n",
              "      <th>High</th>\n",
              "      <th>Low</th>\n",
              "      <th>Close</th>\n",
              "      <th>Adj Close</th>\n",
              "      <th>Volume</th>\n",
              "    </tr>\n",
              "  </thead>\n",
              "  <tbody>\n",
              "  </tbody>\n",
              "</table>\n",
              "</div>"
            ],
            "text/plain": [
              "Empty DataFrame\n",
              "Columns: [Open, High, Low, Close, Adj Close, Volume]\n",
              "Index: []"
            ]
          },
          "metadata": {
            "tags": []
          },
          "execution_count": 365
        }
      ]
    },
    {
      "cell_type": "code",
      "metadata": {
        "id": "wYGWnIcgdpcQ"
      },
      "source": [
        "# merging two dataframes, union of two dataframe\n",
        "df9= pd.merge(df1,df2,how=\"outer\",on=None,left_on=None, right_on=None, left_index=False, right_index=False, sort=True, suffixes=(\"_x\", \"_y\"),copy=True, indicator=False,\n",
        "    validate=None,)"
      ],
      "execution_count": 366,
      "outputs": []
    },
    {
      "cell_type": "code",
      "metadata": {
        "colab": {
          "base_uri": "https://localhost:8080/",
          "height": 419
        },
        "id": "3W6KxQLHdpgL",
        "outputId": "90656d58-264f-4fc5-ee12-478ba9e2e937"
      },
      "source": [
        "df9"
      ],
      "execution_count": 367,
      "outputs": [
        {
          "output_type": "execute_result",
          "data": {
            "text/html": [
              "<div>\n",
              "<style scoped>\n",
              "    .dataframe tbody tr th:only-of-type {\n",
              "        vertical-align: middle;\n",
              "    }\n",
              "\n",
              "    .dataframe tbody tr th {\n",
              "        vertical-align: top;\n",
              "    }\n",
              "\n",
              "    .dataframe thead th {\n",
              "        text-align: right;\n",
              "    }\n",
              "</style>\n",
              "<table border=\"1\" class=\"dataframe\">\n",
              "  <thead>\n",
              "    <tr style=\"text-align: right;\">\n",
              "      <th></th>\n",
              "      <th>Open</th>\n",
              "      <th>High</th>\n",
              "      <th>Low</th>\n",
              "      <th>Close</th>\n",
              "      <th>Adj Close</th>\n",
              "      <th>Volume</th>\n",
              "    </tr>\n",
              "  </thead>\n",
              "  <tbody>\n",
              "    <tr>\n",
              "      <th>0</th>\n",
              "      <td>0.431589</td>\n",
              "      <td>0.482988</td>\n",
              "      <td>0.420897</td>\n",
              "      <td>0.447329</td>\n",
              "      <td>0.447329</td>\n",
              "      <td>609085</td>\n",
              "    </tr>\n",
              "    <tr>\n",
              "      <th>1</th>\n",
              "      <td>0.444988</td>\n",
              "      <td>0.619466</td>\n",
              "      <td>0.420991</td>\n",
              "      <td>0.567702</td>\n",
              "      <td>0.567702</td>\n",
              "      <td>924822</td>\n",
              "    </tr>\n",
              "    <tr>\n",
              "      <th>2</th>\n",
              "      <td>0.489629</td>\n",
              "      <td>0.501898</td>\n",
              "      <td>0.431648</td>\n",
              "      <td>0.434829</td>\n",
              "      <td>0.434829</td>\n",
              "      <td>383921</td>\n",
              "    </tr>\n",
              "    <tr>\n",
              "      <th>3</th>\n",
              "      <td>0.517621</td>\n",
              "      <td>0.521546</td>\n",
              "      <td>0.480994</td>\n",
              "      <td>0.489014</td>\n",
              "      <td>0.489014</td>\n",
              "      <td>243742</td>\n",
              "    </tr>\n",
              "    <tr>\n",
              "      <th>4</th>\n",
              "      <td>0.523278</td>\n",
              "      <td>0.572714</td>\n",
              "      <td>0.514730</td>\n",
              "      <td>0.561878</td>\n",
              "      <td>0.561878</td>\n",
              "      <td>371022</td>\n",
              "    </tr>\n",
              "    <tr>\n",
              "      <th>...</th>\n",
              "      <td>...</td>\n",
              "      <td>...</td>\n",
              "      <td>...</td>\n",
              "      <td>...</td>\n",
              "      <td>...</td>\n",
              "      <td>...</td>\n",
              "    </tr>\n",
              "    <tr>\n",
              "      <th>4299</th>\n",
              "      <td>61221.132812</td>\n",
              "      <td>61597.917969</td>\n",
              "      <td>59302.316406</td>\n",
              "      <td>59302.316406</td>\n",
              "      <td>59302.316406</td>\n",
              "      <td>43901225564</td>\n",
              "    </tr>\n",
              "    <tr>\n",
              "      <th>4300</th>\n",
              "      <td>61529.921875</td>\n",
              "      <td>62572.175781</td>\n",
              "      <td>60361.351562</td>\n",
              "      <td>60683.820312</td>\n",
              "      <td>60683.820312</td>\n",
              "      <td>66138759198</td>\n",
              "    </tr>\n",
              "    <tr>\n",
              "      <th>4301</th>\n",
              "      <td>63075.195312</td>\n",
              "      <td>63821.671875</td>\n",
              "      <td>62208.964844</td>\n",
              "      <td>63314.011719</td>\n",
              "      <td>63314.011719</td>\n",
              "      <td>60954381579</td>\n",
              "    </tr>\n",
              "    <tr>\n",
              "      <th>4302</th>\n",
              "      <td>63258.503906</td>\n",
              "      <td>63594.722656</td>\n",
              "      <td>60222.531250</td>\n",
              "      <td>61572.789062</td>\n",
              "      <td>61572.789062</td>\n",
              "      <td>84293007468</td>\n",
              "    </tr>\n",
              "    <tr>\n",
              "      <th>4303</th>\n",
              "      <td>63523.753906</td>\n",
              "      <td>64863.097656</td>\n",
              "      <td>61554.796875</td>\n",
              "      <td>63109.695312</td>\n",
              "      <td>63109.695312</td>\n",
              "      <td>77451779687</td>\n",
              "    </tr>\n",
              "  </tbody>\n",
              "</table>\n",
              "<p>4304 rows × 6 columns</p>\n",
              "</div>"
            ],
            "text/plain": [
              "              Open          High  ...     Adj Close       Volume\n",
              "0         0.431589      0.482988  ...      0.447329       609085\n",
              "1         0.444988      0.619466  ...      0.567702       924822\n",
              "2         0.489629      0.501898  ...      0.434829       383921\n",
              "3         0.517621      0.521546  ...      0.489014       243742\n",
              "4         0.523278      0.572714  ...      0.561878       371022\n",
              "...            ...           ...  ...           ...          ...\n",
              "4299  61221.132812  61597.917969  ...  59302.316406  43901225564\n",
              "4300  61529.921875  62572.175781  ...  60683.820312  66138759198\n",
              "4301  63075.195312  63821.671875  ...  63314.011719  60954381579\n",
              "4302  63258.503906  63594.722656  ...  61572.789062  84293007468\n",
              "4303  63523.753906  64863.097656  ...  63109.695312  77451779687\n",
              "\n",
              "[4304 rows x 6 columns]"
            ]
          },
          "metadata": {
            "tags": []
          },
          "execution_count": 367
        }
      ]
    },
    {
      "cell_type": "code",
      "metadata": {
        "colab": {
          "base_uri": "https://localhost:8080/",
          "height": 467
        },
        "id": "xiR0urKeexiy",
        "outputId": "de968d6f-7730-4265-83aa-73df0dd159ab"
      },
      "source": [
        "# Groupby function\n",
        "df6.groupby(\"Open_Bcoin\").count()"
      ],
      "execution_count": 368,
      "outputs": [
        {
          "output_type": "execute_result",
          "data": {
            "text/html": [
              "<div>\n",
              "<style scoped>\n",
              "    .dataframe tbody tr th:only-of-type {\n",
              "        vertical-align: middle;\n",
              "    }\n",
              "\n",
              "    .dataframe tbody tr th {\n",
              "        vertical-align: top;\n",
              "    }\n",
              "\n",
              "    .dataframe thead th {\n",
              "        text-align: right;\n",
              "    }\n",
              "</style>\n",
              "<table border=\"1\" class=\"dataframe\">\n",
              "  <thead>\n",
              "    <tr style=\"text-align: right;\">\n",
              "      <th></th>\n",
              "      <th>High_Bcoin</th>\n",
              "      <th>Low_Bcoin</th>\n",
              "      <th>Close_Bcoin</th>\n",
              "      <th>Adj Close_Bcoin</th>\n",
              "      <th>Volume_Bcoin</th>\n",
              "      <th>Open_Eth</th>\n",
              "      <th>High_Eth</th>\n",
              "      <th>Low_Eth</th>\n",
              "      <th>Close_Eth</th>\n",
              "      <th>Adj Close_ETh</th>\n",
              "      <th>Volume_Eth</th>\n",
              "      <th>Pivot_Bcoin</th>\n",
              "      <th>Pivot_Eth</th>\n",
              "    </tr>\n",
              "    <tr>\n",
              "      <th>Open_Bcoin</th>\n",
              "      <th></th>\n",
              "      <th></th>\n",
              "      <th></th>\n",
              "      <th></th>\n",
              "      <th></th>\n",
              "      <th></th>\n",
              "      <th></th>\n",
              "      <th></th>\n",
              "      <th></th>\n",
              "      <th></th>\n",
              "      <th></th>\n",
              "      <th></th>\n",
              "      <th></th>\n",
              "    </tr>\n",
              "  </thead>\n",
              "  <tbody>\n",
              "    <tr>\n",
              "      <th>0.431589</th>\n",
              "      <td>1</td>\n",
              "      <td>1</td>\n",
              "      <td>1</td>\n",
              "      <td>1</td>\n",
              "      <td>1</td>\n",
              "      <td>1</td>\n",
              "      <td>1</td>\n",
              "      <td>1</td>\n",
              "      <td>1</td>\n",
              "      <td>1</td>\n",
              "      <td>1</td>\n",
              "      <td>1</td>\n",
              "      <td>1</td>\n",
              "    </tr>\n",
              "    <tr>\n",
              "      <th>0.444988</th>\n",
              "      <td>1</td>\n",
              "      <td>1</td>\n",
              "      <td>1</td>\n",
              "      <td>1</td>\n",
              "      <td>1</td>\n",
              "      <td>1</td>\n",
              "      <td>1</td>\n",
              "      <td>1</td>\n",
              "      <td>1</td>\n",
              "      <td>1</td>\n",
              "      <td>1</td>\n",
              "      <td>1</td>\n",
              "      <td>1</td>\n",
              "    </tr>\n",
              "    <tr>\n",
              "      <th>0.489629</th>\n",
              "      <td>1</td>\n",
              "      <td>1</td>\n",
              "      <td>1</td>\n",
              "      <td>1</td>\n",
              "      <td>1</td>\n",
              "      <td>1</td>\n",
              "      <td>1</td>\n",
              "      <td>1</td>\n",
              "      <td>1</td>\n",
              "      <td>1</td>\n",
              "      <td>1</td>\n",
              "      <td>1</td>\n",
              "      <td>1</td>\n",
              "    </tr>\n",
              "    <tr>\n",
              "      <th>0.517621</th>\n",
              "      <td>1</td>\n",
              "      <td>1</td>\n",
              "      <td>1</td>\n",
              "      <td>1</td>\n",
              "      <td>1</td>\n",
              "      <td>1</td>\n",
              "      <td>1</td>\n",
              "      <td>1</td>\n",
              "      <td>1</td>\n",
              "      <td>1</td>\n",
              "      <td>1</td>\n",
              "      <td>1</td>\n",
              "      <td>1</td>\n",
              "    </tr>\n",
              "    <tr>\n",
              "      <th>0.523278</th>\n",
              "      <td>1</td>\n",
              "      <td>1</td>\n",
              "      <td>1</td>\n",
              "      <td>1</td>\n",
              "      <td>1</td>\n",
              "      <td>1</td>\n",
              "      <td>1</td>\n",
              "      <td>1</td>\n",
              "      <td>1</td>\n",
              "      <td>1</td>\n",
              "      <td>1</td>\n",
              "      <td>1</td>\n",
              "      <td>1</td>\n",
              "    </tr>\n",
              "    <tr>\n",
              "      <th>...</th>\n",
              "      <td>...</td>\n",
              "      <td>...</td>\n",
              "      <td>...</td>\n",
              "      <td>...</td>\n",
              "      <td>...</td>\n",
              "      <td>...</td>\n",
              "      <td>...</td>\n",
              "      <td>...</td>\n",
              "      <td>...</td>\n",
              "      <td>...</td>\n",
              "      <td>...</td>\n",
              "      <td>...</td>\n",
              "      <td>...</td>\n",
              "    </tr>\n",
              "    <tr>\n",
              "      <th>3911.463135</th>\n",
              "      <td>1</td>\n",
              "      <td>1</td>\n",
              "      <td>1</td>\n",
              "      <td>1</td>\n",
              "      <td>1</td>\n",
              "      <td>1</td>\n",
              "      <td>1</td>\n",
              "      <td>1</td>\n",
              "      <td>1</td>\n",
              "      <td>1</td>\n",
              "      <td>1</td>\n",
              "      <td>1</td>\n",
              "      <td>1</td>\n",
              "    </tr>\n",
              "    <tr>\n",
              "      <th>3924.413330</th>\n",
              "      <td>1</td>\n",
              "      <td>1</td>\n",
              "      <td>1</td>\n",
              "      <td>1</td>\n",
              "      <td>1</td>\n",
              "      <td>1</td>\n",
              "      <td>1</td>\n",
              "      <td>1</td>\n",
              "      <td>1</td>\n",
              "      <td>1</td>\n",
              "      <td>1</td>\n",
              "      <td>1</td>\n",
              "      <td>1</td>\n",
              "    </tr>\n",
              "    <tr>\n",
              "      <th>3948.271973</th>\n",
              "      <td>1</td>\n",
              "      <td>1</td>\n",
              "      <td>1</td>\n",
              "      <td>1</td>\n",
              "      <td>1</td>\n",
              "      <td>1</td>\n",
              "      <td>1</td>\n",
              "      <td>1</td>\n",
              "      <td>1</td>\n",
              "      <td>1</td>\n",
              "      <td>1</td>\n",
              "      <td>1</td>\n",
              "      <td>1</td>\n",
              "    </tr>\n",
              "    <tr>\n",
              "      <th>4075.951660</th>\n",
              "      <td>1</td>\n",
              "      <td>1</td>\n",
              "      <td>1</td>\n",
              "      <td>1</td>\n",
              "      <td>1</td>\n",
              "      <td>1</td>\n",
              "      <td>1</td>\n",
              "      <td>1</td>\n",
              "      <td>1</td>\n",
              "      <td>1</td>\n",
              "      <td>1</td>\n",
              "      <td>1</td>\n",
              "      <td>1</td>\n",
              "    </tr>\n",
              "    <tr>\n",
              "      <th>4174.635742</th>\n",
              "      <td>1</td>\n",
              "      <td>1</td>\n",
              "      <td>1</td>\n",
              "      <td>1</td>\n",
              "      <td>1</td>\n",
              "      <td>1</td>\n",
              "      <td>1</td>\n",
              "      <td>1</td>\n",
              "      <td>1</td>\n",
              "      <td>1</td>\n",
              "      <td>1</td>\n",
              "      <td>1</td>\n",
              "      <td>1</td>\n",
              "    </tr>\n",
              "  </tbody>\n",
              "</table>\n",
              "<p>2151 rows × 13 columns</p>\n",
              "</div>"
            ],
            "text/plain": [
              "             High_Bcoin  Low_Bcoin  ...  Pivot_Bcoin  Pivot_Eth\n",
              "Open_Bcoin                          ...                        \n",
              "0.431589              1          1  ...            1          1\n",
              "0.444988              1          1  ...            1          1\n",
              "0.489629              1          1  ...            1          1\n",
              "0.517621              1          1  ...            1          1\n",
              "0.523278              1          1  ...            1          1\n",
              "...                 ...        ...  ...          ...        ...\n",
              "3911.463135           1          1  ...            1          1\n",
              "3924.413330           1          1  ...            1          1\n",
              "3948.271973           1          1  ...            1          1\n",
              "4075.951660           1          1  ...            1          1\n",
              "4174.635742           1          1  ...            1          1\n",
              "\n",
              "[2151 rows x 13 columns]"
            ]
          },
          "metadata": {
            "tags": []
          },
          "execution_count": 368
        }
      ]
    },
    {
      "cell_type": "code",
      "metadata": {
        "colab": {
          "base_uri": "https://localhost:8080/"
        },
        "id": "42NGs1DIexmB",
        "outputId": "cdb5e846-ef3e-495d-af4a-899d3c2a8c41"
      },
      "source": [
        "# TO get the datatypes of all columns\n",
        "df6.dtypes"
      ],
      "execution_count": 369,
      "outputs": [
        {
          "output_type": "execute_result",
          "data": {
            "text/plain": [
              "Open_Bcoin         float64\n",
              "High_Bcoin         float64\n",
              "Low_Bcoin          float64\n",
              "Close_Bcoin        float64\n",
              "Adj Close_Bcoin    float64\n",
              "Volume_Bcoin         int64\n",
              "Open_Eth           float64\n",
              "High_Eth           float64\n",
              "Low_Eth            float64\n",
              "Close_Eth          float64\n",
              "Adj Close_ETh      float64\n",
              "Volume_Eth           int64\n",
              "Pivot_Bcoin        float64\n",
              "Pivot_Eth          float64\n",
              "dtype: object"
            ]
          },
          "metadata": {
            "tags": []
          },
          "execution_count": 369
        }
      ]
    },
    {
      "cell_type": "code",
      "metadata": {
        "colab": {
          "base_uri": "https://localhost:8080/"
        },
        "id": "8_E5sPLuexpz",
        "outputId": "6e2116ea-e1a2-450e-c388-ce4269c63ad7"
      },
      "source": [
        "df6.info()"
      ],
      "execution_count": 370,
      "outputs": [
        {
          "output_type": "stream",
          "text": [
            "<class 'pandas.core.frame.DataFrame'>\n",
            "DatetimeIndex: 2152 entries, 2015-08-07 to 2021-07-01\n",
            "Data columns (total 14 columns):\n",
            " #   Column           Non-Null Count  Dtype  \n",
            "---  ------           --------------  -----  \n",
            " 0   Open_Bcoin       2152 non-null   float64\n",
            " 1   High_Bcoin       2152 non-null   float64\n",
            " 2   Low_Bcoin        2152 non-null   float64\n",
            " 3   Close_Bcoin      2152 non-null   float64\n",
            " 4   Adj Close_Bcoin  2152 non-null   float64\n",
            " 5   Volume_Bcoin     2152 non-null   int64  \n",
            " 6   Open_Eth         2152 non-null   float64\n",
            " 7   High_Eth         2152 non-null   float64\n",
            " 8   Low_Eth          2152 non-null   float64\n",
            " 9   Close_Eth        2152 non-null   float64\n",
            " 10  Adj Close_ETh    2152 non-null   float64\n",
            " 11  Volume_Eth       2152 non-null   int64  \n",
            " 12  Pivot_Bcoin      2152 non-null   float64\n",
            " 13  Pivot_Eth        2152 non-null   float64\n",
            "dtypes: float64(12), int64(2)\n",
            "memory usage: 252.2 KB\n"
          ],
          "name": "stdout"
        }
      ]
    },
    {
      "cell_type": "code",
      "metadata": {
        "colab": {
          "base_uri": "https://localhost:8080/"
        },
        "id": "Bma13RfFiE9H",
        "outputId": "51413f5d-6785-44ec-b695-3a3807f9a155"
      },
      "source": [
        "# Groupby two columns\n",
        "l = df6.groupby(['Open_Bcoin', 'High_Bcoin'])\n",
        "l"
      ],
      "execution_count": 371,
      "outputs": [
        {
          "output_type": "execute_result",
          "data": {
            "text/plain": [
              "<pandas.core.groupby.generic.DataFrameGroupBy object at 0x7f7c8e2a2110>"
            ]
          },
          "metadata": {
            "tags": []
          },
          "execution_count": 371
        }
      ]
    },
    {
      "cell_type": "code",
      "metadata": {
        "colab": {
          "base_uri": "https://localhost:8080/"
        },
        "id": "kk2lHqh_iFAU",
        "outputId": "ece128be-9934-4695-a7cc-c46c57b46c54"
      },
      "source": [
        "# Groupby by column\n",
        "k = df6.groupby(\"Open_Bcoin\")\n",
        "k"
      ],
      "execution_count": 372,
      "outputs": [
        {
          "output_type": "execute_result",
          "data": {
            "text/plain": [
              "<pandas.core.groupby.generic.DataFrameGroupBy object at 0x7f7c8e18bcd0>"
            ]
          },
          "metadata": {
            "tags": []
          },
          "execution_count": 372
        }
      ]
    },
    {
      "cell_type": "code",
      "metadata": {
        "colab": {
          "base_uri": "https://localhost:8080/",
          "height": 117
        },
        "id": "EeS6ZcL6j7O4",
        "outputId": "b58911d1-5b1e-4ae3-8874-134cfbe8b114"
      },
      "source": [
        "# Finding duplictae columns\n",
        "duplicate = df6[df6.duplicated()]\n",
        "duplicate"
      ],
      "execution_count": 373,
      "outputs": [
        {
          "output_type": "execute_result",
          "data": {
            "text/html": [
              "<div>\n",
              "<style scoped>\n",
              "    .dataframe tbody tr th:only-of-type {\n",
              "        vertical-align: middle;\n",
              "    }\n",
              "\n",
              "    .dataframe tbody tr th {\n",
              "        vertical-align: top;\n",
              "    }\n",
              "\n",
              "    .dataframe thead th {\n",
              "        text-align: right;\n",
              "    }\n",
              "</style>\n",
              "<table border=\"1\" class=\"dataframe\">\n",
              "  <thead>\n",
              "    <tr style=\"text-align: right;\">\n",
              "      <th></th>\n",
              "      <th>Open_Bcoin</th>\n",
              "      <th>High_Bcoin</th>\n",
              "      <th>Low_Bcoin</th>\n",
              "      <th>Close_Bcoin</th>\n",
              "      <th>Adj Close_Bcoin</th>\n",
              "      <th>Volume_Bcoin</th>\n",
              "      <th>Open_Eth</th>\n",
              "      <th>High_Eth</th>\n",
              "      <th>Low_Eth</th>\n",
              "      <th>Close_Eth</th>\n",
              "      <th>Adj Close_ETh</th>\n",
              "      <th>Volume_Eth</th>\n",
              "      <th>Pivot_Bcoin</th>\n",
              "      <th>Pivot_Eth</th>\n",
              "    </tr>\n",
              "    <tr>\n",
              "      <th>Date</th>\n",
              "      <th></th>\n",
              "      <th></th>\n",
              "      <th></th>\n",
              "      <th></th>\n",
              "      <th></th>\n",
              "      <th></th>\n",
              "      <th></th>\n",
              "      <th></th>\n",
              "      <th></th>\n",
              "      <th></th>\n",
              "      <th></th>\n",
              "      <th></th>\n",
              "      <th></th>\n",
              "      <th></th>\n",
              "    </tr>\n",
              "  </thead>\n",
              "  <tbody>\n",
              "  </tbody>\n",
              "</table>\n",
              "</div>"
            ],
            "text/plain": [
              "Empty DataFrame\n",
              "Columns: [Open_Bcoin, High_Bcoin, Low_Bcoin, Close_Bcoin, Adj Close_Bcoin, Volume_Bcoin, Open_Eth, High_Eth, Low_Eth, Close_Eth, Adj Close_ETh, Volume_Eth, Pivot_Bcoin, Pivot_Eth]\n",
              "Index: []"
            ]
          },
          "metadata": {
            "tags": []
          },
          "execution_count": 373
        }
      ]
    },
    {
      "cell_type": "code",
      "metadata": {
        "id": "ClAeXMucj7Sp"
      },
      "source": [
        "# To add extra column, pivot value \n",
        "df6[\"Pivot_Bcoin\"] = (df6[\"Open_Bcoin\"]+df6[\"High_Bcoin\"]+df6[\"Low_Bcoin\"])/3\n",
        "df6[\"Pivot_Eth\"] =  (df6[\"Open_Eth\"]+df6[\"High_Eth\"]+df6[\"Low_Eth\"])/3"
      ],
      "execution_count": 374,
      "outputs": []
    },
    {
      "cell_type": "code",
      "metadata": {
        "colab": {
          "base_uri": "https://localhost:8080/",
          "height": 657
        },
        "id": "06y2odFQiFDg",
        "outputId": "0ce8d937-636a-43b7-85c9-16340f416b79"
      },
      "source": [
        "df6"
      ],
      "execution_count": 375,
      "outputs": [
        {
          "output_type": "execute_result",
          "data": {
            "text/html": [
              "<div>\n",
              "<style scoped>\n",
              "    .dataframe tbody tr th:only-of-type {\n",
              "        vertical-align: middle;\n",
              "    }\n",
              "\n",
              "    .dataframe tbody tr th {\n",
              "        vertical-align: top;\n",
              "    }\n",
              "\n",
              "    .dataframe thead th {\n",
              "        text-align: right;\n",
              "    }\n",
              "</style>\n",
              "<table border=\"1\" class=\"dataframe\">\n",
              "  <thead>\n",
              "    <tr style=\"text-align: right;\">\n",
              "      <th></th>\n",
              "      <th>Open_Bcoin</th>\n",
              "      <th>High_Bcoin</th>\n",
              "      <th>Low_Bcoin</th>\n",
              "      <th>Close_Bcoin</th>\n",
              "      <th>Adj Close_Bcoin</th>\n",
              "      <th>Volume_Bcoin</th>\n",
              "      <th>Open_Eth</th>\n",
              "      <th>High_Eth</th>\n",
              "      <th>Low_Eth</th>\n",
              "      <th>Close_Eth</th>\n",
              "      <th>Adj Close_ETh</th>\n",
              "      <th>Volume_Eth</th>\n",
              "      <th>Pivot_Bcoin</th>\n",
              "      <th>Pivot_Eth</th>\n",
              "    </tr>\n",
              "    <tr>\n",
              "      <th>Date</th>\n",
              "      <th></th>\n",
              "      <th></th>\n",
              "      <th></th>\n",
              "      <th></th>\n",
              "      <th></th>\n",
              "      <th></th>\n",
              "      <th></th>\n",
              "      <th></th>\n",
              "      <th></th>\n",
              "      <th></th>\n",
              "      <th></th>\n",
              "      <th></th>\n",
              "      <th></th>\n",
              "      <th></th>\n",
              "    </tr>\n",
              "  </thead>\n",
              "  <tbody>\n",
              "    <tr>\n",
              "      <th>2015-08-07</th>\n",
              "      <td>2.831620</td>\n",
              "      <td>3.536610</td>\n",
              "      <td>2.521120</td>\n",
              "      <td>2.772120</td>\n",
              "      <td>2.772120</td>\n",
              "      <td>164329</td>\n",
              "      <td>278.740997</td>\n",
              "      <td>280.391998</td>\n",
              "      <td>276.365997</td>\n",
              "      <td>279.584991</td>\n",
              "      <td>279.584991</td>\n",
              "      <td>42484800</td>\n",
              "      <td>2.963117</td>\n",
              "      <td>278.499664</td>\n",
              "    </tr>\n",
              "    <tr>\n",
              "      <th>2015-08-08</th>\n",
              "      <td>2.793760</td>\n",
              "      <td>2.798810</td>\n",
              "      <td>0.714725</td>\n",
              "      <td>0.753325</td>\n",
              "      <td>0.753325</td>\n",
              "      <td>674188</td>\n",
              "      <td>279.742004</td>\n",
              "      <td>279.928009</td>\n",
              "      <td>260.709991</td>\n",
              "      <td>260.997009</td>\n",
              "      <td>260.997009</td>\n",
              "      <td>58533000</td>\n",
              "      <td>2.102432</td>\n",
              "      <td>273.460002</td>\n",
              "    </tr>\n",
              "    <tr>\n",
              "      <th>2015-08-09</th>\n",
              "      <td>0.706136</td>\n",
              "      <td>0.879810</td>\n",
              "      <td>0.629191</td>\n",
              "      <td>0.701897</td>\n",
              "      <td>0.701897</td>\n",
              "      <td>532170</td>\n",
              "      <td>261.115997</td>\n",
              "      <td>267.002991</td>\n",
              "      <td>260.467987</td>\n",
              "      <td>265.083008</td>\n",
              "      <td>265.083008</td>\n",
              "      <td>23789600</td>\n",
              "      <td>0.738379</td>\n",
              "      <td>262.862325</td>\n",
              "    </tr>\n",
              "    <tr>\n",
              "      <th>2015-08-10</th>\n",
              "      <td>0.713989</td>\n",
              "      <td>0.729854</td>\n",
              "      <td>0.636546</td>\n",
              "      <td>0.708448</td>\n",
              "      <td>0.708448</td>\n",
              "      <td>405283</td>\n",
              "      <td>265.477997</td>\n",
              "      <td>267.032013</td>\n",
              "      <td>262.596008</td>\n",
              "      <td>264.470001</td>\n",
              "      <td>264.470001</td>\n",
              "      <td>20979400</td>\n",
              "      <td>0.693463</td>\n",
              "      <td>265.035339</td>\n",
              "    </tr>\n",
              "    <tr>\n",
              "      <th>2015-08-11</th>\n",
              "      <td>0.708087</td>\n",
              "      <td>1.131410</td>\n",
              "      <td>0.663235</td>\n",
              "      <td>1.067860</td>\n",
              "      <td>1.067860</td>\n",
              "      <td>1463100</td>\n",
              "      <td>264.342010</td>\n",
              "      <td>270.385986</td>\n",
              "      <td>264.093994</td>\n",
              "      <td>270.385986</td>\n",
              "      <td>270.385986</td>\n",
              "      <td>25433900</td>\n",
              "      <td>0.834244</td>\n",
              "      <td>266.273997</td>\n",
              "    </tr>\n",
              "    <tr>\n",
              "      <th>...</th>\n",
              "      <td>...</td>\n",
              "      <td>...</td>\n",
              "      <td>...</td>\n",
              "      <td>...</td>\n",
              "      <td>...</td>\n",
              "      <td>...</td>\n",
              "      <td>...</td>\n",
              "      <td>...</td>\n",
              "      <td>...</td>\n",
              "      <td>...</td>\n",
              "      <td>...</td>\n",
              "      <td>...</td>\n",
              "      <td>...</td>\n",
              "      <td>...</td>\n",
              "    </tr>\n",
              "    <tr>\n",
              "      <th>2021-06-27</th>\n",
              "      <td>1830.996948</td>\n",
              "      <td>1979.958130</td>\n",
              "      <td>1811.245850</td>\n",
              "      <td>1978.894653</td>\n",
              "      <td>1978.894653</td>\n",
              "      <td>19885474742</td>\n",
              "      <td>32287.523438</td>\n",
              "      <td>34656.128906</td>\n",
              "      <td>32071.757812</td>\n",
              "      <td>34649.644531</td>\n",
              "      <td>34649.644531</td>\n",
              "      <td>35511640894</td>\n",
              "      <td>1874.066976</td>\n",
              "      <td>33005.136719</td>\n",
              "    </tr>\n",
              "    <tr>\n",
              "      <th>2021-06-28</th>\n",
              "      <td>1981.386475</td>\n",
              "      <td>2139.805420</td>\n",
              "      <td>1963.615479</td>\n",
              "      <td>2079.657471</td>\n",
              "      <td>2079.657471</td>\n",
              "      <td>25514602841</td>\n",
              "      <td>34679.121094</td>\n",
              "      <td>35219.890625</td>\n",
              "      <td>33902.074219</td>\n",
              "      <td>34434.335938</td>\n",
              "      <td>34434.335938</td>\n",
              "      <td>33892523752</td>\n",
              "      <td>2028.269124</td>\n",
              "      <td>34600.361979</td>\n",
              "    </tr>\n",
              "    <tr>\n",
              "      <th>2021-06-29</th>\n",
              "      <td>2083.448730</td>\n",
              "      <td>2242.238770</td>\n",
              "      <td>2076.240234</td>\n",
              "      <td>2160.768311</td>\n",
              "      <td>2160.768311</td>\n",
              "      <td>24815124419</td>\n",
              "      <td>34475.558594</td>\n",
              "      <td>36542.109375</td>\n",
              "      <td>34252.484375</td>\n",
              "      <td>35867.777344</td>\n",
              "      <td>35867.777344</td>\n",
              "      <td>37901460044</td>\n",
              "      <td>2133.975911</td>\n",
              "      <td>35090.050781</td>\n",
              "    </tr>\n",
              "    <tr>\n",
              "      <th>2021-06-30</th>\n",
              "      <td>2164.216309</td>\n",
              "      <td>2282.989014</td>\n",
              "      <td>2090.760742</td>\n",
              "      <td>2274.547607</td>\n",
              "      <td>2274.547607</td>\n",
              "      <td>25828056268</td>\n",
              "      <td>35908.386719</td>\n",
              "      <td>36074.757812</td>\n",
              "      <td>34086.152344</td>\n",
              "      <td>35040.835938</td>\n",
              "      <td>35040.835938</td>\n",
              "      <td>34059036099</td>\n",
              "      <td>2179.322021</td>\n",
              "      <td>35356.432292</td>\n",
              "    </tr>\n",
              "    <tr>\n",
              "      <th>2021-07-01</th>\n",
              "      <td>2265.371582</td>\n",
              "      <td>2265.411133</td>\n",
              "      <td>2083.572754</td>\n",
              "      <td>2105.031494</td>\n",
              "      <td>2105.031494</td>\n",
              "      <td>31636858880</td>\n",
              "      <td>34971.144531</td>\n",
              "      <td>34974.652344</td>\n",
              "      <td>33130.027344</td>\n",
              "      <td>33369.765625</td>\n",
              "      <td>33369.765625</td>\n",
              "      <td>39336603648</td>\n",
              "      <td>2204.785156</td>\n",
              "      <td>34358.608073</td>\n",
              "    </tr>\n",
              "  </tbody>\n",
              "</table>\n",
              "<p>2152 rows × 14 columns</p>\n",
              "</div>"
            ],
            "text/plain": [
              "             Open_Bcoin   High_Bcoin  ...  Pivot_Bcoin     Pivot_Eth\n",
              "Date                                  ...                           \n",
              "2015-08-07     2.831620     3.536610  ...     2.963117    278.499664\n",
              "2015-08-08     2.793760     2.798810  ...     2.102432    273.460002\n",
              "2015-08-09     0.706136     0.879810  ...     0.738379    262.862325\n",
              "2015-08-10     0.713989     0.729854  ...     0.693463    265.035339\n",
              "2015-08-11     0.708087     1.131410  ...     0.834244    266.273997\n",
              "...                 ...          ...  ...          ...           ...\n",
              "2021-06-27  1830.996948  1979.958130  ...  1874.066976  33005.136719\n",
              "2021-06-28  1981.386475  2139.805420  ...  2028.269124  34600.361979\n",
              "2021-06-29  2083.448730  2242.238770  ...  2133.975911  35090.050781\n",
              "2021-06-30  2164.216309  2282.989014  ...  2179.322021  35356.432292\n",
              "2021-07-01  2265.371582  2265.411133  ...  2204.785156  34358.608073\n",
              "\n",
              "[2152 rows x 14 columns]"
            ]
          },
          "metadata": {
            "tags": []
          },
          "execution_count": 375
        }
      ]
    }
  ]
}